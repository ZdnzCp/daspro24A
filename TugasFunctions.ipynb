{
 "cells": [
  {
   "cell_type": "code",
   "execution_count": 11,
   "id": "bf290227-a166-4a83-803b-deabfbe58056",
   "metadata": {},
   "outputs": [
    {
     "name": "stdin",
     "output_type": "stream",
     "text": [
      "Masukan Kalimat: AKU CINTA KAMU\n"
     ]
    },
    {
     "name": "stdout",
     "output_type": "stream",
     "text": [
      "Output: UKA ATNIC UMAK\n",
      "\n"
     ]
    }
   ],
   "source": [
    "def reverseKata(kalimat):\n",
    "    kataList = kalimat.split()\n",
    "    hasil = []\n",
    "    for kata in kataList:\n",
    "        hasil.append(kata[::-1])\n",
    "    return ' '.join(hasil)\n",
    "\n",
    "kalimat1 = input(\"Masukan Kalimat:\")\n",
    "print(\"Output:\", reverseKata(kalimat1))\n",
    "print()"
   ]
  },
  {
   "cell_type": "code",
   "execution_count": 13,
   "id": "ceecb360-3996-486b-be4d-ca6ac340a312",
   "metadata": {},
   "outputs": [
    {
     "name": "stdin",
     "output_type": "stream",
     "text": [
      "Masukkan kalimat:  HARI INI SEDANG BELAJAR PYTHON\n",
      "Masukkan urutan (pisahkan dengan spasi):  5 1 4 3 2\n"
     ]
    },
    {
     "name": "stdout",
     "output_type": "stream",
     "text": [
      "Output: PYTHON HARI BELAJAR SEDANG INI\n",
      "\n"
     ]
    }
   ],
   "source": [
    "def urutkanKalimat(kalimat, urutan):\n",
    "    kataList = kalimat.split()\n",
    "    hasil = [''] * len(urutan)\n",
    "    for i in range(len(urutan)):\n",
    "        posisi = urutan[i] - 1\n",
    "        if posisi < len(kataList):\n",
    "            hasil[i] = kataList[posisi]\n",
    "    return ' '.join(hasil)\n",
    "\n",
    "kalimat2 = input(\"Masukkan kalimat: \")\n",
    "urutanInput = input(\"Masukkan urutan (pisahkan dengan spasi): \")\n",
    "urutan2 = [int(x) for x in urutanInput.split()]\n",
    "print(\"Output:\", urutkanKalimat(kalimat2, urutan2))\n",
    "print()"
   ]
  },
  {
   "cell_type": "code",
   "execution_count": 17,
   "id": "04020c28-770c-4417-ba78-1abdef4ce22b",
   "metadata": {},
   "outputs": [
    {
     "name": "stdin",
     "output_type": "stream",
     "text": [
      "Masukkan kalimat:  Aku Cinta Kamu\n",
      "Masukkan opsi (1 = vokal kecil, 2 = vokal kapital):  1\n"
     ]
    },
    {
     "name": "stdout",
     "output_type": "stream",
     "text": [
      "Output: Ak|_| C1nt4 K4m|_|\n"
     ]
    }
   ],
   "source": [
    "def gantiVokal(kalimat, opsi):\n",
    "    hasil = ''\n",
    "    for huruf in kalimat:\n",
    "        if opsi == 1:\n",
    "            if huruf == 'a':\n",
    "                hasil += '4'\n",
    "            elif huruf == 'i':\n",
    "                hasil += '1'\n",
    "            elif huruf == 'u':\n",
    "                hasil += '|_|'\n",
    "            elif huruf == 'e':\n",
    "                hasil += '3'\n",
    "            elif huruf == 'o':\n",
    "                hasil += '0'\n",
    "            else:\n",
    "                hasil += huruf\n",
    "        elif opsi == 2:\n",
    "            if huruf == 'A':\n",
    "                hasil += '4'\n",
    "            elif huruf == 'I':\n",
    "                hasil += '1'\n",
    "            elif huruf == 'U':\n",
    "                hasil += '|_|'\n",
    "            elif huruf == 'E':\n",
    "                hasil += '3'\n",
    "            elif huruf == 'O':\n",
    "                hasil += '0'\n",
    "            else:\n",
    "                hasil += huruf\n",
    "        else:\n",
    "            hasil += huruf\n",
    "    return hasil\n",
    "\n",
    "kalimat3 = input(\"Masukkan kalimat: \")\n",
    "opsi3 = int(input(\"Masukkan opsi (1 = vokal kecil, 2 = vokal kapital): \"))\n",
    "print(\"Output:\", gantiVokal(kalimat3, opsi3))"
   ]
  },
  {
   "cell_type": "code",
   "execution_count": null,
   "id": "da5aee34-26ca-4033-b1a3-4f72bfae5992",
   "metadata": {},
   "outputs": [],
   "source": []
  }
 ],
 "metadata": {
  "kernelspec": {
   "display_name": "Python [conda env:base] *",
   "language": "python",
   "name": "conda-base-py"
  },
  "language_info": {
   "codemirror_mode": {
    "name": "ipython",
    "version": 3
   },
   "file_extension": ".py",
   "mimetype": "text/x-python",
   "name": "python",
   "nbconvert_exporter": "python",
   "pygments_lexer": "ipython3",
   "version": "3.12.7"
  }
 },
 "nbformat": 4,
 "nbformat_minor": 5
}

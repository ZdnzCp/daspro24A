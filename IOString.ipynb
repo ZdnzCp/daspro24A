{
 "cells": [
  {
   "cell_type": "markdown",
   "id": "2add8681-046c-4eb3-915f-cf20ddfc03a4",
   "metadata": {},
   "source": [
    "<h1>Input Output String</h1>"
   ]
  },
  {
   "cell_type": "code",
   "execution_count": 14,
   "id": "09fc22df-d06e-41bf-ab6b-d834a3c981bd",
   "metadata": {},
   "outputs": [
    {
     "name": "stdin",
     "output_type": "stream",
     "text": [
      "Isikan nama anda: Yajit\n"
     ]
    },
    {
     "name": "stdout",
     "output_type": "stream",
     "text": [
      "Selamat Datang Yajit\n",
      "123\n",
      "Yajit💕Padli💕Jitna\n"
     ]
    }
   ],
   "source": [
    "name =  input(\"Isikan nama anda:\")\n",
    "print(\"Selamat Datang\", name) #menggabungkan variable dengan string\n",
    "\n",
    "print(\"1\",end='') #mencetak disamping karakter\n",
    "print(\"2\",end='')\n",
    "print(\"3\")\n",
    "\n",
    "#separator\n",
    "print(\"Yajit\",\"Padli\",\"Jitna\", sep=\"💕\")"
   ]
  },
  {
   "cell_type": "markdown",
   "id": "0166bf7c-89d5-4224-b283-ece78992d5c8",
   "metadata": {},
   "source": [
    "<h1>String Format</h1>"
   ]
  },
  {
   "cell_type": "code",
   "execution_count": 21,
   "id": "f6558c6d-59dc-4282-8f84-eedabc0b08e2",
   "metadata": {},
   "outputs": [
    {
     "name": "stdin",
     "output_type": "stream",
     "text": [
      "Isikan bilangan 1: 839183918918\n",
      "Isikan bilangan 2: 3081938109381038\n"
     ]
    },
    {
     "name": "stdout",
     "output_type": "stream",
     "text": [
      "Hasil Penjumlahan 839183918918 + 3081938109381038 = 3082777293299956\n",
      "Hasil penjumlahan 839183918918 + 3081938109381038 = 3082777293299956\n"
     ]
    }
   ],
   "source": [
    "val1 = int(input(\"Isikan bilangan 1:\"))\n",
    "val2 = int(input(\"Isikan bilangan 2:\"))\n",
    "\n",
    "print(\"Hasil Penjumlahan\", val1, \"+\", val2, \"=\", val1+val2)\n",
    "\n",
    "#String format {}\n",
    "print(\"Hasil penjumlahan {} + {} = {}\".format(val1,val2,val1+val2))"
   ]
  },
  {
   "cell_type": "markdown",
   "id": "c8c7300d-8468-4674-8203-755a938a480b",
   "metadata": {},
   "source": [
    "<h1>String Format Index</h1>"
   ]
  },
  {
   "cell_type": "code",
   "execution_count": 30,
   "id": "6ac73bb4-7c0f-4fcd-9fc3-6982c5e0abbc",
   "metadata": {},
   "outputs": [
    {
     "name": "stdin",
     "output_type": "stream",
     "text": [
      "Isikan Nama Depan: Carlie\n",
      "Isikan Nama Tengah: van\n",
      "Isikan Nama Belakang: Houten\n"
     ]
    },
    {
     "name": "stdout",
     "output_type": "stream",
     "text": [
      "Nama Anda: Carlie van Houten\n",
      "Nama Anda: van Carlie Houten\n",
      "Nama Anda: Carlie van Houten\n"
     ]
    }
   ],
   "source": [
    "fName = input(\"Isikan Nama Depan:\")\n",
    "mName = input(\"Isikan Nama Tengah:\")\n",
    "lName = input(\"Isikan Nama Belakang:\")\n",
    "\n",
    "print(\"Nama Anda: {} {} {}\".format(fName,mName,lName))\n",
    "#Format menggunakan index\n",
    "print(\"Nama Anda: {1} {0} {2}\".format(fName,mName,lName))\n",
    "#Format menggunakan key\n",
    "print(\"Nama Anda: {depan} {tengah} {belakang}\".format(depan=fName,tengah=mName,belakang=lName))"
   ]
  },
  {
   "cell_type": "markdown",
   "id": "fc0702ab-de6a-438c-81c8-d419c7b8aa3a",
   "metadata": {},
   "source": [
    "<h1>Slicing</h1>\n",
    "<h3>Mengambil String/Karakter dari String Berdasarkan Indeks</h3>"
   ]
  },
  {
   "cell_type": "code",
   "execution_count": 5,
   "id": "1b07b26a-9409-4f56-a514-d4ef534a16f5",
   "metadata": {},
   "outputs": [
    {
     "name": "stdin",
     "output_type": "stream",
     "text": [
      "Isikan nama kampus anda: Nusa Putra\n"
     ]
    },
    {
     "name": "stdout",
     "output_type": "stream",
     "text": [
      "N\n",
      "Nusa \n",
      "a\n",
      "usa Putra\n"
     ]
    }
   ],
   "source": [
    "university = input(\"Isikan nama kampus anda:\")\n",
    "#Mencetak karakter pertama\n",
    "print(university[0])\n",
    "#Mencetak karakter pertama - ke5\n",
    "print(university[0:5])\n",
    "#Mencetak karakter paling akhir\n",
    "print(university[-1])\n",
    "#Mencetak karakter ke2 - paling akhir\n",
    "print(university[1:])"
   ]
  },
  {
   "cell_type": "markdown",
   "id": "6e291384-f914-470b-9f1f-cbeaff4de989",
   "metadata": {},
   "source": [
    "<h1>Fungsi String</h1>"
   ]
  },
  {
   "cell_type": "code",
   "execution_count": 53,
   "id": "d826589c-9388-469e-8103-80c0660242e3",
   "metadata": {},
   "outputs": [
    {
     "name": "stdin",
     "output_type": "stream",
     "text": [
      "Isikan nama lengkap: A B C\n"
     ]
    },
    {
     "name": "stdout",
     "output_type": "stream",
     "text": [
      "Nama Depan A\n",
      "Nama Tengah B\n",
      "Nama Belakang C\n",
      "Urname Is A B C\n",
      "6\n"
     ]
    }
   ],
   "source": [
    "fullName = input(\"Isikan nama lengkap:\")\n",
    "#split - untuk memisahkan string berdasarkan karakter tertentu\n",
    "name = fullName.split(' ')\n",
    "print(\"Nama Depan\", name[0])\n",
    "print(\"Nama Tengah\", name[1])\n",
    "print(\"Nama Belakang\", name[2])\n",
    "\n",
    "#print fstring\n",
    "print(f\"Urname Is {fullName}\")\n",
    "\n",
    "#find untuk mencari karakter dalam string\n",
    "#jika ditemukan akan mengembalikan posisi index\n",
    "#jika tidak ditemukan akan mengembalikan nilai -1\n",
    "platMobil = \"F69696AH\"\n",
    "print(platMobil.find(\"A\"))"
   ]
  },
  {
   "cell_type": "code",
   "execution_count": 83,
   "id": "d6b99f7a-1fd3-4d08-ab21-d36bd347c439",
   "metadata": {},
   "outputs": [
    {
     "name": "stdin",
     "output_type": "stream",
     "text": [
      "Isikan Email Anda: yaz@g.com\n"
     ]
    },
    {
     "name": "stdout",
     "output_type": "stream",
     "text": [
      "Valid\n"
     ]
    }
   ],
   "source": [
    "email = input(\"Isikan Email Anda:\")\n",
    "\n",
    "cari1 = email.find(\"@\")\n",
    "cari2 = email.find(\".\")\n",
    "\n",
    "emailCondition = \"Valid\" if cari1 > -1 and cari2 > -1 and cari1 < cari2 else \"Email tidak Valid\"\n",
    "\n",
    "print(emailCondition)"
   ]
  },
  {
   "cell_type": "markdown",
   "id": "47f62dd2-2061-40b9-a82d-f8168aa95ff7",
   "metadata": {},
   "source": [
    "<h1>Random</h1>"
   ]
  },
  {
   "cell_type": "code",
   "execution_count": 100,
   "id": "a8d28304-f78a-4c2d-bd28-96967687b774",
   "metadata": {},
   "outputs": [
    {
     "name": "stdout",
     "output_type": "stream",
     "text": [
      "Hasil dari nilai acak pecahan adalah 0.6262619870427963\n",
      "Hasil dari nilai acak bulat adalah 10\n",
      "Hasil dari acak bulan adalah Jun\n",
      "Hasil dari acak hari adalah ['Jum', 5]\n",
      "Berapakah 13 + 6:\n"
     ]
    },
    {
     "name": "stdin",
     "output_type": "stream",
     "text": [
      "Isikan Hasilnya: 90\n"
     ]
    },
    {
     "name": "stdout",
     "output_type": "stream",
     "text": [
      "salah\n"
     ]
    }
   ],
   "source": [
    "from random import random #mengacak nilai float\n",
    "nilai = random()\n",
    "print(f\"Hasil dari nilai acak pecahan adalah {nilai}\")\n",
    "\n",
    "from random import randint\n",
    "nilaiInt = randint(0,100)\n",
    "print(f\"Hasil dari nilai acak bulat adalah {nilaiInt}\")\n",
    "\n",
    "from random import choice\n",
    "month = [\"Jan\",\"Feb\",\"Mar\",\"Apr\",\"May\",\"Jun\",\"Jul\",\"Aug\",\"Sep\",\"Oct\",\"Des\"]\n",
    "day = [[\"Sen\",1],[\"Sel\",2],[\"Rab\",3],[\"Kam\",4],[\"Jum\",5],[\"Sab\",6],[\"Min\",7]]\n",
    "smon = choice(month)\n",
    "sday = choice(day)\n",
    "print(f\"Hasil dari acak bulan adalah {smon}\")\n",
    "print(f\"Hasil dari acak hari adalah {sday}\")\n",
    "\n",
    "nilai1 = randint(0,100)\n",
    "nilai2 = randint(0,100)\n",
    "print(f\"Berapakah {nilai1} + {nilai2}:\")\n",
    "jawab = int(input(\"Isikan Hasilnya:\"))\n",
    "cekJawab = \"Benar\" if jawab == nilai1 + nilai2 else \"Salah\"\n",
    "print(cekJawab)\n",
    "\n"
   ]
  },
  {
   "cell_type": "code",
   "execution_count": 108,
   "id": "561169e5-7ca3-4df5-acda-fb811a54d66d",
   "metadata": {},
   "outputs": [
    {
     "name": "stdout",
     "output_type": "stream",
     "text": [
      "Berapakah 20 * 74:\n"
     ]
    },
    {
     "name": "stdin",
     "output_type": "stream",
     "text": [
      "Isikan Hasilnya: 80\n"
     ]
    },
    {
     "name": "stdout",
     "output_type": "stream",
     "text": [
      "Salah\n"
     ]
    }
   ],
   "source": [
    "from random import randint,choice\n",
    "\n",
    "nilai1 = randint(0,100)\n",
    "nilai2 = randint(0,100)\n",
    "operator = [\"+\",\"-\",\"*\",\"/\"]\n",
    "soperator = choice(operator)\n",
    "print(f\"Berapakah {nilai1} {soperator} {nilai2}:\")\n",
    "jawab = int(input(\"Isikan Hasilnya:\"))\n",
    "\n",
    "if soperator == \"+\":\n",
    "    cekJawab = \"Benar\" if jawab == nilai1 + nilai2 else \"Salah\"\n",
    "elif soperator == \"-\":\n",
    "    cekJawab = \"Benar\" if jawab == nilai1 - nilai2 else \"Salah\"\n",
    "elif soperator == \"*\":\n",
    "    cekJawab = \"Benar\" if jawab == nilai1 * nilai2 else \"Salah\"\n",
    "elif soperator == \"/\":\n",
    "    cekJawab = \"Benar\" if jawab == nilai1 // nilai2 else \"Salah\"\n",
    "print(cekJawab)"
   ]
  },
  {
   "cell_type": "code",
   "execution_count": null,
   "id": "cfe86dfe-17f9-4f2d-b22b-4c22cd8366d0",
   "metadata": {},
   "outputs": [],
   "source": []
  }
 ],
 "metadata": {
  "kernelspec": {
   "display_name": "Python [conda env:base] *",
   "language": "python",
   "name": "conda-base-py"
  },
  "language_info": {
   "codemirror_mode": {
    "name": "ipython",
    "version": 3
   },
   "file_extension": ".py",
   "mimetype": "text/x-python",
   "name": "python",
   "nbconvert_exporter": "python",
   "pygments_lexer": "ipython3",
   "version": "3.12.7"
  }
 },
 "nbformat": 4,
 "nbformat_minor": 5
}

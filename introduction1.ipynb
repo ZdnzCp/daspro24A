{
 "cells": [
  {
   "cell_type": "markdown",
   "id": "5788b279-dcfd-4e30-be87-f641ddef4909",
   "metadata": {},
   "source": [
    "<center><img src=\"https://cdn1-production-images-kly.akamaized.net/pyB5K8P9Z8BKUmdYEvM4Wkr0kVQ=/1200x675/smart/filters:quality(75):strip_icc():format(jpeg)/kly-media-production/medias/4388828/original/052024300_1681100901-Thumbnail_Liputan6.com-7.jpg\" width=\"700\"></center><br>\n",
    "<h1 align=\"left\">Tutorial Jupyter Notebook</h1>\n",
    "<h2 align=\"left\">Tempat menulis code disebut <b>cell</b></h2>\n",
    "<ol>\n",
    "    <li>Code - Y</li>\n",
    "    <li>Markdown - M</li>\n",
    "</ol>\n",
    "<hr>cara menjalankan cell\n",
    "<table>\n",
    "    <thead>\n",
    "        <tr>\n",
    "            <th>Command</th>\n",
    "            <th>Keterangan</th>\n",
    "        </tr>\n",
    "    </thead>\n",
    "    <tbody>\n",
    "        <tr>\n",
    "            <td>ctrl + enter</td>\n",
    "            <td>Running dan fokus di cell aktif</td>\n",
    "        </tr>\n",
    "        <tr>\n",
    "            <td>shift + enter</td>\n",
    "            <td>Running dan fokus di cell berikutnya</td>\n",
    "        </tr>\n",
    "    </tbody>\n",
    "</table>"
   ]
  },
  {
   "cell_type": "markdown",
   "id": "11900ba8-fcf3-4bbe-b378-e0a06cfb5434",
   "metadata": {},
   "source": [
    "Menambahkan Cell ada 2 Cara\n",
    "<ul>\n",
    "    <li>Tekan A -> Above</li>\n",
    "    <li>Tekan B ->Below</li>\n",
    "</ul>\n",
    "Cara membuat output di python adalah <br>\n",
    "```\n",
    "    print (teks yang akan di print) \n",
    "```\n",
    "\n"
   ]
  },
  {
   "cell_type": "code",
   "execution_count": 50,
   "id": "779fee1a-c638-445f-a0ca-3b635f2ee4b5",
   "metadata": {},
   "outputs": [
    {
     "name": "stdout",
     "output_type": "stream",
     "text": [
      "Selamat belajar python\n",
      "Selamat belajar variable\n"
     ]
    }
   ],
   "source": [
    "#Cetak tulisan selamat belajar python\n",
    "print (\"Selamat belajar python\")\n",
    "data = \"Selamat belajar variable\"\n",
    "print(data)"
   ]
  },
  {
   "cell_type": "code",
   "execution_count": 58,
   "id": "3bf7e5c8-f6b4-4b52-bc9e-87b4403edff5",
   "metadata": {},
   "outputs": [
    {
     "name": "stdout",
     "output_type": "stream",
     "text": [
      "Selamat belajar variable\n"
     ]
    },
    {
     "data": {
      "text/plain": [
       "25"
      ]
     },
     "execution_count": 58,
     "metadata": {},
     "output_type": "execute_result"
    }
   ],
   "source": [
    "print(data)\n",
    "data\n",
    "8 + 10\n",
    "num1 = 12\n",
    "num2 = 13\n",
    "num1 + num2 "
   ]
  }
 ],
 "metadata": {
  "kernelspec": {
   "display_name": "Python [conda env:base] *",
   "language": "python",
   "name": "conda-base-py"
  },
  "language_info": {
   "codemirror_mode": {
    "name": "ipython",
    "version": 3
   },
   "file_extension": ".py",
   "mimetype": "text/x-python",
   "name": "python",
   "nbconvert_exporter": "python",
   "pygments_lexer": "ipython3",
   "version": "3.12.7"
  }
 },
 "nbformat": 4,
 "nbformat_minor": 5
}

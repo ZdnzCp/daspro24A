{
 "cells": [
  {
   "cell_type": "code",
   "execution_count": 1,
   "id": "ba2763b5-d616-4dc4-b7b2-23d512ace81b",
   "metadata": {},
   "outputs": [
    {
     "name": "stdout",
     "output_type": "stream",
     "text": [
      "Nama Buah: Apple\n",
      "Nama Buah: Banana\n",
      "Nama Buah: Watermelon\n",
      "Looping sudah selesai\n"
     ]
    }
   ],
   "source": [
    "fruits = [\"Apple\",\"Banana\",\"Watermelon\"]\n",
    "for fruit in fruits:\n",
    "    print(f\"Nama Buah: {fruit}\")\n",
    "print(f\"Looping sudah selesai\")"
   ]
  },
  {
   "cell_type": "code",
   "execution_count": 9,
   "id": "c0f2fa31-2718-4674-b483-9c3f761b264d",
   "metadata": {},
   "outputs": [
    {
     "name": "stdout",
     "output_type": "stream",
     "text": [
      "0 : Jan\n",
      "1 : Feb\n",
      "3 : Apr\n",
      "4 : May\n",
      "5 : Jun\n",
      "Loop Month sudah selesai!\n",
      "0 : Mon\n",
      "1 : Tue\n",
      "2 : Wed\n",
      "Loop Day sudah selesai!\n"
     ]
    }
   ],
   "source": [
    "#Enumerate\n",
    "month = [\"Jan\", \"Feb\", \"Mar\", \"Apr\", \"May\", \"Jun\"]\n",
    "for i,m in enumerate(month):\n",
    "    if m==\"Mar\":\n",
    "        continue\n",
    "    print(f\"{i} : {m}\")\n",
    "print(\"Loop Month sudah selesai!\")\n",
    "\n",
    "day = [\"Mon\", \"Tue\", \"Wed\", \"Thu\", \"Fri\", \"Sat\", \"Sun\"]\n",
    "for i,d in enumerate(day):\n",
    "    if d == \"Thu\":\n",
    "        break\n",
    "    print(f\"{i} : {d}\")\n",
    "print(\"Loop Day sudah selesai!\")"
   ]
  },
  {
   "cell_type": "code",
   "execution_count": 11,
   "id": "3557a2d7-602d-4d31-89b0-cb55e620ce2f",
   "metadata": {},
   "outputs": [
    {
     "name": "stdin",
     "output_type": "stream",
     "text": [
      "Isikan nama Anda: Yazid\n"
     ]
    },
    {
     "name": "stdout",
     "output_type": "stream",
     "text": [
      "Y\n",
      "a\n",
      "z\n",
      "i\n",
      "d\n"
     ]
    }
   ],
   "source": [
    "#Looping digunakan untuk String\n",
    "name = input(\"Isikan nama Anda:\")\n",
    "for n in name:\n",
    "    print(n)"
   ]
  },
  {
   "cell_type": "code",
   "execution_count": 13,
   "id": "7de20b40-fea0-4cc3-9547-00c75c4578ae",
   "metadata": {},
   "outputs": [
    {
     "name": "stdout",
     "output_type": "stream",
     "text": [
      "Bahasa Inggris makan : eat\n",
      "Bahasa Inggris tidur : sleep\n",
      "Bahasa Inggris minum : drink\n"
     ]
    }
   ],
   "source": [
    "#Looping untuk Dictionary, data yang terdiri dari key, value\n",
    "indToEnglish = {\n",
    "    \"makan\" : \"eat\",\n",
    "    \"tidur\" : \"sleep\",\n",
    "    \"minum\" : \"drink\"\n",
    "}\n",
    "\n",
    "for key, value in indToEnglish.items():\n",
    "    print(f\"Bahasa Inggris {key} : {value}\")"
   ]
  },
  {
   "cell_type": "code",
   "execution_count": 23,
   "id": "4f9d2d37-f718-4b34-8d1b-631a7f6b5e5a",
   "metadata": {},
   "outputs": [
    {
     "name": "stdout",
     "output_type": "stream",
     "text": [
      "Nilai i adalah: 0\n",
      "Nilai i adalah: 1\n",
      "Nilai i adalah: 2\n",
      "Nilai i adalah: 3\n",
      "Nilai i adalah: 4\n",
      "-----------------\n",
      "Nilai j adalah: 5\n",
      "Nilai j adalah: 6\n",
      "Nilai j adalah: 7\n",
      "Nilai j adalah: 8\n",
      "Nilai j adalah: 9\n",
      "-----------------\n",
      "Nilai k adalah: 1\n",
      "Nilai k adalah: 3\n",
      "Nilai k adalah: 5\n",
      "Nilai k adalah: 7\n",
      "Nilai k adalah: 9\n",
      "-----------------\n",
      "Nilai l adalah: 10\n",
      "Nilai l adalah: 9\n",
      "Nilai l adalah: 8\n",
      "Nilai l adalah: 7\n",
      "Nilai l adalah: 6\n",
      "Nilai l adalah: 5\n",
      "Nilai l adalah: 4\n",
      "Nilai l adalah: 3\n",
      "Nilai l adalah: 2\n",
      "Nilai l adalah: 1\n"
     ]
    }
   ],
   "source": [
    "#for menggunakan range\n",
    "for i in range(5):\n",
    "    print(f\"Nilai i adalah: {i}\")\n",
    "print(\"-----------------\")\n",
    "for j in range(5,10):\n",
    "    print(f\"Nilai j adalah: {j}\")\n",
    "print(\"-----------------\")\n",
    "for k in range(1,10,2):\n",
    "    print(f\"Nilai k adalah: {k}\")\n",
    "print(\"-----------------\")\n",
    "for l in range(10,0,-1):\n",
    "    print(f\"Nilai l adalah: {l}\")"
   ]
  },
  {
   "cell_type": "code",
   "execution_count": 29,
   "id": "dfbb7eca-0ed6-4697-85cb-57dcbe759b3d",
   "metadata": {},
   "outputs": [
    {
     "name": "stdout",
     "output_type": "stream",
     "text": [
      "[1, 4, 9, 16, 25, 36, 49, 64, 81, 100]\n"
     ]
    }
   ],
   "source": [
    "#for untuk list comprehension\n",
    "data = [1,2,3,4,5,6,7,8,9,10] \n",
    "pangkat = [x**2 for x in data]\n",
    "print(pangkat)"
   ]
  },
  {
   "cell_type": "code",
   "execution_count": 49,
   "id": "61d9edc7-48f1-4c32-95cc-f3cf387fdff5",
   "metadata": {},
   "outputs": [],
   "source": [
    "num = int(input(\"Masukan Nilai:\"))\n",
    "if (num % 2) == 0 and 2 <= num <= 5 :\n",
    "    print(\"Even\")\n",
    "else :\n",
    "    print(\"Odd\")"
   ]
  }
 ],
 "metadata": {
  "kernelspec": {
   "display_name": "Python [conda env:base] *",
   "language": "python",
   "name": "conda-base-py"
  },
  "language_info": {
   "codemirror_mode": {
    "name": "ipython",
    "version": 3
   },
   "file_extension": ".py",
   "mimetype": "text/x-python",
   "name": "python",
   "nbconvert_exporter": "python",
   "pygments_lexer": "ipython3",
   "version": "3.12.7"
  }
 },
 "nbformat": 4,
 "nbformat_minor": 5
}

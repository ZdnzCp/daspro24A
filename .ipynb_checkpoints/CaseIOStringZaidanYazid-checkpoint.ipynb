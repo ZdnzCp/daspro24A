{
 "cells": [
  {
   "cell_type": "markdown",
   "id": "847c5b10-236d-481c-bced-4d00aca40b5f",
   "metadata": {},
   "source": [
    "<div align=\"center\">\n",
    "  <img height=\"150\" src=\"https://media.giphy.com/media/v1.Y2lkPTc5MGI3NjExYjVoczk4emRkdG5sNGdkNGhydm02eHQ5M2twMmM0bzNlMDRyazI1MyZlcD12MV9naWZzX3RyZW5kaW5nJmN0PWc/tHIRLHtNwxpjIFqPdV/giphy.gif\"/>\n",
    "</div>\n",
    "<h1 align=\"center\">TUGAS IO STRING ZAIDAN YAZID</h1>\n",
    "<h1 align=\"center\">----------------------------</h1>"
   ]
  },
  {
   "cell_type": "markdown",
   "id": "f0b114f3-869e-419d-812d-515202f1edcf",
   "metadata": {},
   "source": [
    "<h3>1. Buatlah biodata sederhana dengan menggunakan fungsi input(), dan\n",
    "output variabel dengan fungsi format().</h3>"
   ]
  },
  {
   "cell_type": "code",
   "execution_count": 22,
   "id": "cfb99579-022c-42ab-b4c6-eecb1e0bfde3",
   "metadata": {},
   "outputs": [
    {
     "name": "stdout",
     "output_type": "stream",
     "text": [
      "Isi Biodata Anda dibawah Ini\n"
     ]
    },
    {
     "name": "stdin",
     "output_type": "stream",
     "text": [
      "Masukan Nama: Zaidan Yazid\n",
      "Masukan Umur: 18 Tahun\n",
      "Masukan Gender: Laki Laki\n",
      "Masukan Agama: Islam\n",
      "Masukan Alamat: Jl. Mana aja\n"
     ]
    },
    {
     "name": "stdout",
     "output_type": "stream",
     "text": [
      "---------------\n",
      "Biodata Zaidan Yazid\n",
      "Nama Saya Zaidan Yazid, Saya berumur 18 Tahun.\n",
      "Saya tinggal di Jl. Mana aja, agama Saya Islam, dan Saya adalah seorang Laki Laki.\n"
     ]
    }
   ],
   "source": [
    "print(\"Isi Biodata Anda dibawah Ini\")\n",
    "nama = input(\"Masukan Nama:\")\n",
    "umur = input(\"Masukan Umur:\")\n",
    "gender = input(\"Masukan Gender:\")\n",
    "agama = input(\"Masukan Agama:\")\n",
    "alamat = input(\"Masukan Alamat:\")\n",
    "print(\"---------------\")\n",
    "print(\"Biodata\", nama)\n",
    "print(\"Nama Saya {}, Saya berumur {}.\".format(nama,umur))\n",
    "print(\"Saya tinggal di {}, agama Saya {}, dan Saya adalah seorang {}.\".format(alamat,agama,gender))"
   ]
  },
  {
   "cell_type": "markdown",
   "id": "bd5cfca7-e66e-4475-9709-02d2d8564cda",
   "metadata": {},
   "source": [
    "<h3>2. Jika terdapat kalimat UNIVERSITAS NUSA PUTRA SUKABUMI, buatlah\n",
    "kode program untuk menampilkan output:</h3>\n",
    "<h3>a. putra nusa</h3>\n",
    "<h3>b. NIVERSITAS NSA PTRA SKABMI</h3>\n",
    "<h3>c. SUKABUMI PUTRA NUSA UNIVERSITAS</h3>\n",
    "<h3>d. UNPS</h3>\n",
    "<h3>e. TAS SAPU BUMI</h3>"
   ]
  },
  {
   "cell_type": "code",
   "execution_count": 1,
   "id": "aa2caf3f-5fb2-44c2-ba3e-92e5efa4ffac",
   "metadata": {},
   "outputs": [
    {
     "name": "stdout",
     "output_type": "stream",
     "text": [
      "UNIVERSITAS NUSA PUTRA SUKABUMI\n",
      "a. putra nusa\n",
      "b. NIVERSITAS NSA PTRA SKABMI\n",
      "c. SUKABUMI PUTRA NUSA UNIVERSITAS\n",
      "d. UNPS\n",
      "e. TAS SAPU BUMI\n"
     ]
    }
   ],
   "source": [
    "kalimat = \"UNIVERSITAS NUSA PUTRA SUKABUMI\"\n",
    "print(kalimat)\n",
    "print(\"a.\", kalimat.lower()[17:22], kalimat.lower()[12:16])\n",
    "print(\"b.\", kalimat[1:11], kalimat[12] + kalimat[14:16], kalimat[17] + kalimat[19] + kalimat[20:22], kalimat[23] + kalimat[25:27] + kalimat[27] + kalimat[29:31])\n",
    "print(\"c.\", kalimat[23:31], kalimat[17:22], kalimat[12:16], kalimat[0:11])\n",
    "print(\"d.\", kalimat[0] + kalimat[12] + kalimat[17] + kalimat[23])\n",
    "print(\"e.\", kalimat[8:11], kalimat[14:16] + kalimat[17:19], kalimat[27:31])"
   ]
  }
 ],
 "metadata": {
  "kernelspec": {
   "display_name": "Python [conda env:base] *",
   "language": "python",
   "name": "conda-base-py"
  },
  "language_info": {
   "codemirror_mode": {
    "name": "ipython",
    "version": 3
   },
   "file_extension": ".py",
   "mimetype": "text/x-python",
   "name": "python",
   "nbconvert_exporter": "python",
   "pygments_lexer": "ipython3",
   "version": "3.12.7"
  }
 },
 "nbformat": 4,
 "nbformat_minor": 5
}

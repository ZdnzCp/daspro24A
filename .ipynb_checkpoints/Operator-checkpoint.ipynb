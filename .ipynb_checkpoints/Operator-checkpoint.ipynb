{
 "cells": [
  {
   "cell_type": "markdown",
   "id": "f746b49c-d4fe-4de1-885a-75cddf20c4ce",
   "metadata": {},
   "source": [
    "<h1 style=\"font-family:courier; color:purple;\">Operator Aritmatika</h1>\n"
   ]
  },
  {
   "cell_type": "code",
   "execution_count": 5,
   "id": "4425f0bc-316e-447d-97ac-c419133df215",
   "metadata": {},
   "outputs": [
    {
     "name": "stdin",
     "output_type": "stream",
     "text": [
      "isikan nilai X : 7\n",
      "isikan nilai Y : 7\n"
     ]
    },
    {
     "name": "stdout",
     "output_type": "stream",
     "text": [
      "Penjumlahan  7 + 7 = 14\n",
      "Pengurangan  7 - 7 = 0\n",
      "Perkalian  7 * 7 = 49\n",
      "Pembagian  7 / 7 = 1.0\n",
      "Modulus  7 % 7 = 0\n",
      "Perpangkatan  7 ** 7 = 823543\n",
      "Bagi Bulat 7 // 7 = 1\n"
     ]
    }
   ],
   "source": [
    "x = int(input(\"isikan nilai X :\"))\n",
    "y = int(input(\"isikan nilai Y :\"))\n",
    "\n",
    "hasilTambah = x + y\n",
    "hasilKurang = x - y\n",
    "hasilKali = x * y\n",
    "hasilBagi = x / y\n",
    "hasilModulus = x % y\n",
    "hasilPangkat = x ** y\n",
    "hasilBagiBulat = x // y\n",
    "\n",
    "print(\"Penjumlahan \", x, \"+\", y, \"=\", hasilTambah)\n",
    "print(\"Pengurangan \", x, \"-\", y, \"=\", hasilKurang)\n",
    "print(\"Perkalian \", x, \"*\", y, \"=\", hasilKali)\n",
    "print(\"Pembagian \", x, \"/\", y, \"=\", hasilBagi)\n",
    "print(\"Modulus \", x, \"%\", y, \"=\", hasilModulus)\n",
    "print(\"Perpangkatan \", x, \"**\", y, \"=\", hasilPangkat)\n",
    "print(\"Bagi Bulat\", x, \"//\", y, \"=\", hasilBagiBulat)"
   ]
  },
  {
   "cell_type": "markdown",
   "id": "748bbb66-329f-465c-ae6d-90d2d1d2594c",
   "metadata": {},
   "source": [
    "<h1 style=\"font-family:courier; color:silver;\">Operator Penugasan</h1>\n"
   ]
  },
  {
   "cell_type": "code",
   "execution_count": 11,
   "id": "994dd3ec-8f0d-4881-9a75-df610b0c57b6",
   "metadata": {},
   "outputs": [
    {
     "name": "stdin",
     "output_type": "stream",
     "text": [
      "Isikan Nilai: 10\n"
     ]
    },
    {
     "name": "stdout",
     "output_type": "stream",
     "text": [
      "Nilai awal dari <nilai>: 10\n",
      "Nilai setelah ditambahkan 3: 13\n",
      "Nilai setelah dikurangi 5: 8\n",
      "Nilai setelah dikalikan 10: 80\n",
      "Nilai setelah dibagi 2: 40.0\n"
     ]
    }
   ],
   "source": [
    "nilai = int(input(\"Isikan Nilai:\"))\n",
    "print(\"Nilai awal dari <nilai>:\", nilai)\n",
    "nilai+=3\n",
    "print(\"Nilai setelah ditambahkan 3:\", nilai)\n",
    "nilai-=5\n",
    "print(\"Nilai setelah dikurangi 5:\", nilai)\n",
    "nilai*=10\n",
    "print(\"Nilai setelah dikalikan 10:\", nilai)\n",
    "nilai/=2\n",
    "print(\"Nilai setelah dibagi 2:\", nilai)"
   ]
  },
  {
   "cell_type": "markdown",
   "id": "b4180390-eb3a-4612-894d-5b62dd3b319b",
   "metadata": {},
   "source": [
    "<h1>Operator Perbandingan</h1>\n",
    "\n"
   ]
  },
  {
   "cell_type": "code",
   "execution_count": 16,
   "id": "57ce0780-abb8-4476-bc0b-3631dcd9b87a",
   "metadata": {},
   "outputs": [
    {
     "name": "stdin",
     "output_type": "stream",
     "text": [
      "Isikan Nilai 1: 6\n",
      "Isikan Nilai 2: 6\n"
     ]
    },
    {
     "name": "stdout",
     "output_type": "stream",
     "text": [
      "Apakah 6 = 6 ? True\n",
      "Apakah 6 > 6 ? False\n",
      "Apakah 6 < 6 ? False\n",
      "Apakah 6 >= 6 ? True\n",
      "Apakah 6 <= 6 ? True\n",
      "Apakah 6 != 6 ? False\n"
     ]
    }
   ],
   "source": [
    "val1 = int(input('Isikan Nilai 1:'))\n",
    "val2 = int(input('Isikan Nilai 2:'))\n",
    "\n",
    "print(\"Apakah\", val1, \"=\", val2, \"?\", val1==val2)\n",
    "print(\"Apakah\", val1, \">\", val2, \"?\", val1>val2)\n",
    "print(\"Apakah\", val1, \"<\", val2, \"?\", val1<val2)\n",
    "print(\"Apakah\", val1, \">=\", val2, \"?\", val1>=val2)\n",
    "print(\"Apakah\", val1, \"<=\", val2, \"?\", val1<=val2)\n",
    "print(\"Apakah\", val1, \"!=\", val2, \"?\", val1!=val2)"
   ]
  },
  {
   "cell_type": "markdown",
   "id": "b48e0a78-b92e-4f1c-bbef-53a3031246d1",
   "metadata": {},
   "source": [
    "<h1>Operator Logika</h1>\n",
    "\n"
   ]
  },
  {
   "cell_type": "code",
   "execution_count": 24,
   "id": "930c1817-3ba2-439a-9b89-d0b60f8b78c5",
   "metadata": {},
   "outputs": [
    {
     "name": "stdin",
     "output_type": "stream",
     "text": [
      "Isikan nilai a: 4\n",
      "Isikan nilai b: 3\n",
      "Isikan nilai c: 3\n",
      "Isikan nilai d: 4\n"
     ]
    },
    {
     "name": "stdout",
     "output_type": "stream",
     "text": [
      "Nilai a: 4\n",
      "Nilai b: 3\n",
      "Nilai c: 3\n",
      "Nilai d: 4\n",
      "Apakah a > b dan c < d? True\n",
      "Apakah a > b atau c < d? True\n",
      "Apakah a > b dan c < d? False\n"
     ]
    }
   ],
   "source": [
    "a = int(input('Isikan nilai a:'))\n",
    "b = int(input('Isikan nilai b:'))\n",
    "c = int(input('Isikan nilai c:'))\n",
    "d = int(input('Isikan nilai d:'))\n",
    "\n",
    "print(\"Nilai a:\", a)\n",
    "print(\"Nilai b:\", b)\n",
    "print(\"Nilai c:\", c)\n",
    "print(\"Nilai d:\", d)\n",
    "\n",
    "print(\"Apakah a > b dan c < d?\", a > b and c < d)\n",
    "print(\"Apakah a > b atau c < d?\", a > b or c < d)\n",
    "print(\"Apakah a > b dan c < d?\", not(a > b and c < d))"
   ]
  },
  {
   "cell_type": "markdown",
   "id": "11f7963c-86b6-47c3-8002-846c3e6be2f2",
   "metadata": {},
   "source": [
    "<h1 style=\"font-family:courier; color:orange;\">Operator Identitas</h1>\n",
    "\n"
   ]
  },
  {
   "cell_type": "code",
   "execution_count": 31,
   "id": "6aae5edb-2262-4af4-81fc-02b439060aca",
   "metadata": {},
   "outputs": [
    {
     "name": "stdout",
     "output_type": "stream",
     "text": [
      "Memori address dari num1 1964777008768\n",
      "Memori address dari num2 140710572731096\n",
      "Memori address dari num3 140710572731096\n",
      "Apakah num1 dari num2 False\n",
      "Memori num2 dari num3 True\n",
      "Memori num2 bukan num3 False\n"
     ]
    }
   ],
   "source": [
    "num1 = \"10\"\n",
    "num2 = 10\n",
    "num3 = num2\n",
    "\n",
    "print(\"Memori address dari num1\", id(num1))\n",
    "print(\"Memori address dari num2\", id(num2))\n",
    "print(\"Memori address dari num3\", id(num3))\n",
    "\n",
    "print(\"Apakah num1 dari num2\", num1 is num2)\n",
    "print(\"Memori num2 dari num3\", num2 is num3)\n",
    "print(\"Memori num2 bukan num3\", num2 is not num3)"
   ]
  },
  {
   "cell_type": "markdown",
   "id": "d3af644a-f396-41b0-a3fa-acbf08cbd81f",
   "metadata": {},
   "source": [
    "<h1 style=\"font-family:courier; color:green;\">Operator Keanggotaan</h1>\n",
    "\n"
   ]
  },
  {
   "cell_type": "code",
   "execution_count": 34,
   "id": "201fda43-80a0-483c-b1f2-06ae7e9bb5e8",
   "metadata": {},
   "outputs": [
    {
     "name": "stdin",
     "output_type": "stream",
     "text": [
      "Isikan nama yang dicari: Padli\n"
     ]
    },
    {
     "name": "stdout",
     "output_type": "stream",
     "text": [
      "True\n",
      "False\n",
      "False\n",
      "True\n"
     ]
    }
   ],
   "source": [
    "nama = input(\"Isikan nama yang dicari:\")\n",
    "listNama = (\"Yajit\", \"Padli\", \"Jitna\", \"Obob\", \"Dani\", \"Icank\")\n",
    "print(nama in listNama)\n",
    "print(nama in listNama[0])\n",
    "print(nama not in listNama)\n",
    "print(nama not in listNama[0])"
   ]
  },
  {
   "cell_type": "markdown",
   "id": "b541b05d-b466-493f-844a-2b407992a240",
   "metadata": {},
   "source": [
    "<h1 style=\"font-family:courier; color:blue;\">Operator Bitwise</h1>\n",
    "\n"
   ]
  },
  {
   "cell_type": "code",
   "execution_count": 59,
   "id": "f380b5c8-89ad-4f8c-880d-68e2c942bc81",
   "metadata": {},
   "outputs": [
    {
     "name": "stdin",
     "output_type": "stream",
     "text": [
      "Isikan Bilangan 1: 10\n",
      "Isikan Bilangan 2: 12\n"
     ]
    },
    {
     "name": "stdout",
     "output_type": "stream",
     "text": [
      "Biner dari 10 : 0b1010\n",
      "Biner dari 12 : 0b1100\n",
      "\n",
      "Bitwise & (and)\n",
      "0b1010\n",
      "0b1100\n",
      "-----------\n",
      "0b1000\n",
      "Hasil desimalnya adalah: 8\n",
      "\n",
      "Bitwise | (or)\n",
      "0b1010\n",
      "0b1100\n",
      "-----------\n",
      "0b1110\n",
      "Hasil desimalnya adalah: 14\n",
      "\n",
      "Bitwise ^ (xor)\n",
      "0b1010\n",
      "0b1100\n",
      "-----------\n",
      "0b110\n",
      "Hasil desimalnya adalah: 6\n",
      "\n",
      "Bitwise << (shift left)\n",
      "0b1010 digeser ke kiri sebanyak 12 bit\n",
      "Hasilnya adalah: 0b1010000000000000\n",
      "Hasil desimalnya adalah: 40960\n",
      "\n",
      "Bitwise >> (shift right)\n",
      "0b1010 digeser ke kanan sebanyak 12 bit\n",
      "Hasilnya adalah: 0b0\n",
      "Hasil desimalnya adalah: 0\n",
      "\n"
     ]
    }
   ],
   "source": [
    "bil1 = int(input(\"Isikan Bilangan 1:\"))\n",
    "bil2 = int(input(\"Isikan Bilangan 2:\"))\n",
    "\n",
    "print(\"Biner dari\", bil1, \":\", bin(bil1))\n",
    "print(\"Biner dari\", bil2, \":\", bin(bil2))\n",
    "print(\"\")\n",
    "\n",
    "#Bitwise & (and)\n",
    "print(\"Bitwise & (and)\")\n",
    "bitwiseAnd = bil1 & bil2\n",
    "print(bin(bil1))\n",
    "print(bin(bil2))\n",
    "print(\"-----------\")\n",
    "print(bin(bitwiseAnd))\n",
    "print(\"Hasil desimalnya adalah:\", bitwiseAnd)\n",
    "print(\"\")\n",
    "\n",
    "#Bitwise | (or)\n",
    "print(\"Bitwise | (or)\")\n",
    "bitwiseOr = bil1 | bil2\n",
    "print(bin(bil1))\n",
    "print(bin(bil2))\n",
    "print(\"-----------\")\n",
    "print(bin(bitwiseOr))\n",
    "print(\"Hasil desimalnya adalah:\", bitwiseOr)\n",
    "print(\"\")\n",
    "\n",
    "#Bitwise ^ (xor)\n",
    "print(\"Bitwise ^ (xor)\")\n",
    "bitwiseXor = bil1 ^ bil2\n",
    "print(bin(bil1))\n",
    "print(bin(bil2))\n",
    "print(\"-----------\")\n",
    "print(bin(bitwiseXor))\n",
    "print(\"Hasil desimalnya adalah:\", bitwiseXor)\n",
    "print(\"\")\n",
    "\n",
    "#Bitwise << (shift left)\n",
    "print(\"Bitwise << (shift left)\")\n",
    "bitwiseSL = bil1 << bil2\n",
    "print(bin(bil1), \"digeser ke kiri sebanyak\", bil2, \"bit\")\n",
    "print(\"Hasilnya adalah:\", bin(bitwiseSL))\n",
    "print(\"Hasil desimalnya adalah:\", bitwiseSL)\n",
    "print(\"\")\n",
    "\n",
    "#Bitwise >> (shift right)\n",
    "print(\"Bitwise >> (shift right)\")\n",
    "bitwiseSR = bil1 >> bil2\n",
    "print(bin(bil1), \"digeser ke kanan sebanyak\", bil2, \"bit\")\n",
    "print(\"Hasilnya adalah:\", bin(bitwiseSR))\n",
    "print(\"Hasil desimalnya adalah:\", bitwiseSR)\n",
    "print(\"\")"
   ]
  },
  {
   "cell_type": "markdown",
   "id": "1a5de9ff-4524-40ae-9481-009c29404730",
   "metadata": {},
   "source": [
    "<h1 style=\"font-family:courier; color:red;\">Operator Ternary</h1>\n",
    "\n"
   ]
  },
  {
   "cell_type": "code",
   "execution_count": 68,
   "id": "da267771-98be-4e80-8561-15460ac064e1",
   "metadata": {},
   "outputs": [
    {
     "name": "stdin",
     "output_type": "stream",
     "text": [
      "Insert ur number 7\n"
     ]
    },
    {
     "name": "stdout",
     "output_type": "stream",
     "text": [
      "Bilangan Ganjil\n"
     ]
    }
   ],
   "source": [
    "number = int(input(\"Insert ur number:\"))\n",
    "oddEven = \"Bilangan Genap\" if number % 2==0 else \"Bilangan Ganjil\"\n",
    "print(oddEven)"
   ]
  },
  {
   "cell_type": "markdown",
   "id": "46face17-8389-4920-92d7-8215d1697374",
   "metadata": {},
   "source": [
    "<center><h2 style=\"font-family:courier; color:#FFA725;\">MENU</h2></center>\n",
    "<h2 style=\"font-family:courier; color:#FFA725;\">Pisang Goreng = Rp12.000</h2>\n",
    "<h2 style=\"font-family:courier; color:#FFA725;\">Kolak = Rp5.000</h2>\n",
    "<h2 style=\"font-family:courier; color:#FFA725;\">Nasi Padang = Rp20.000</h2>\n",
    "<h2 style=\"font-family:courier; color:#FFA725;\">Es Buah = Rp10.000</h2>\n",
    "<center><h3 style=\"font-family:courier; color:#FFA725;\">Diskon 5% Jika Pembelian Melebihi Rp25.000!!</h3></center>"
   ]
  },
  {
   "cell_type": "code",
   "execution_count": 140,
   "id": "92126b55-28cd-4b16-af38-8d31ccdb31f8",
   "metadata": {},
   "outputs": [
    {
     "name": "stdin",
     "output_type": "stream",
     "text": [
      "Pisang Goreng: 10\n",
      "Kolak: 10\n",
      "Nasi Padang: 10\n",
      "Es Buah: 10\n"
     ]
    },
    {
     "name": "stdout",
     "output_type": "stream",
     "text": [
      "Sub Total: 480000\n",
      "Diskon 5%\n",
      "Total:  456000.0\n"
     ]
    }
   ],
   "source": [
    "pisGor = int(input(\"Pisang Goreng:\"))\n",
    "kolak = int(input(\"Kolak:\"))\n",
    "nasPad = int(input(\"Nasi Padang:\"))\n",
    "esBuah = int(input(\"Es Buah:\"))\n",
    "\n",
    "pg = 13000 * pisGor\n",
    "kol = 5000 * kolak\n",
    "nasp = 20000 * nasPad\n",
    "esb = 10000 * esBuah\n",
    "\n",
    "total = pg + kol + nasp + esb\n",
    "print(\"Sub Total:\", total)\n",
    "\n",
    "ifDiskon = \"Diskon 5%\" if total >= 25000 else \"Tidak Dapat Diskon\"\n",
    "print(ifDiskon)\n",
    "\n",
    "diskon = total * 0.05 if total >= 25000 else 0\n",
    "print(\"Total: \", total - diskon)\n",
    "\n",
    "\n",
    "\n"
   ]
  }
 ],
 "metadata": {
  "kernelspec": {
   "display_name": "Python [conda env:base] *",
   "language": "python",
   "name": "conda-base-py"
  },
  "language_info": {
   "codemirror_mode": {
    "name": "ipython",
    "version": 3
   },
   "file_extension": ".py",
   "mimetype": "text/x-python",
   "name": "python",
   "nbconvert_exporter": "python",
   "pygments_lexer": "ipython3",
   "version": "3.12.7"
  }
 },
 "nbformat": 4,
 "nbformat_minor": 5
}

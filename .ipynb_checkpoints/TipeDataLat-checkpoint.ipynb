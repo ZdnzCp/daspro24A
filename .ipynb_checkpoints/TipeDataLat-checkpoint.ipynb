{
 "cells": [
  {
   "cell_type": "code",
   "execution_count": 1,
   "id": "0a7f646a-5fc5-4104-a9c1-5cb3e9ab6204",
   "metadata": {},
   "outputs": [
    {
     "name": "stdout",
     "output_type": "stream",
     "text": [
      "Nama: Yazids\n",
      "Umur: 20\n",
      "Alamat: Jl. Pelabuhan\n",
      "Nilai Pemrograman: 80.5\n",
      "Status Menikah: False\n"
     ]
    }
   ],
   "source": [
    "name = \"Yazids\"\n",
    "age = 20\n",
    "address,province = \"Jl. Pelabuhan\",\"7413412\"\n",
    "scorePython = 80.5\n",
    "isMarried = False\n",
    "\n",
    "print(\"Nama:\",name)\n",
    "print(\"Umur:\",age)\n",
    "print(\"Alamat:\",address)\n",
    "print(\"Nilai Pemrograman:\",scorePython)\n",
    "print(\"Status Menikah:\",isMarried)"
   ]
  },
  {
   "cell_type": "code",
   "execution_count": 5,
   "id": "e5131cac-7b44-4906-b2af-5cec07110ef0",
   "metadata": {},
   "outputs": [
    {
     "name": "stdout",
     "output_type": "stream",
     "text": [
      "Tipe Data <name>: <class 'str'>\n",
      "Tipe Data <age>: <class 'int'>\n",
      "Tipe Data <alamat>: <class 'str'>\n",
      "Tipe Data <provinsi>: <class 'str'>\n",
      "Tipe Data <scorePython>: <class 'float'>\n",
      "Tipe Data <isMarried>: <class 'bool'>\n"
     ]
    }
   ],
   "source": [
    "print (\"Tipe Data <name>:\",type(name))\n",
    "print (\"Tipe Data <age>:\",type(age))\n",
    "print (\"Tipe Data <alamat>:\",type(address))\n",
    "print (\"Tipe Data <provinsi>:\",type(province))\n",
    "print (\"Tipe Data <scorePython>:\",type(scorePython))\n",
    "print (\"Tipe Data <isMarried>:\",type(isMarried))"
   ]
  },
  {
   "cell_type": "code",
   "execution_count": 21,
   "id": "efd2c594-eda5-4ccf-ad46-296b079be3cc",
   "metadata": {},
   "outputs": [
    {
     "name": "stdout",
     "output_type": "stream",
     "text": [
      "7413412-7413412.0-True\n",
      "20-20.0-True\n",
      "80.5-80-True\n",
      "0-0.0-False\n"
     ]
    }
   ],
   "source": [
    "#Casting / Konversi Tipe Data\n",
    "#Konversi dari String ke (int,float,bool)\n",
    "strToInt = int(province)\n",
    "strToFloat = float(province)\n",
    "strToBool = bool(province)\n",
    "print(strToInt,strToFloat,strToBool, sep=\"-\")\n",
    "#Konversi dari int ke (str,float,bool)\n",
    "intToStr = str(age)\n",
    "intToFloat = float(age)\n",
    "intToBool = bool(age)\n",
    "print(intToStr,intToFloat,intToBool, sep=\"-\")\n",
    "#Konversi dari float ke (str,int,bool)\n",
    "floatToStr = str(scorePython)\n",
    "floatToInt = int(scorePython)\n",
    "floatToBool = bool(scorePython)\n",
    "print(floatToStr,floatToInt,floatToBool, sep=\"-\")\n",
    "#Konversi dari bool ke (int,float,str)\n",
    "boolToInt = int(isMarried)\n",
    "boolToFloat = float(isMarried)\n",
    "boolToStr = str(isMarried)\n",
    "print(boolToInt,boolToFloat,boolToStr, sep=\"-\")"
   ]
  },
  {
   "cell_type": "code",
   "execution_count": 27,
   "id": "1db875ad-3a1e-480d-8c73-76b241d7300f",
   "metadata": {},
   "outputs": [
    {
     "name": "stdout",
     "output_type": "stream",
     "text": [
      "B\n",
      "g\n"
     ]
    }
   ],
   "source": [
    "city = \"Bandung\"\n",
    "lenCity = len(city)\n",
    "print(city[0])\n",
    "print(city[lenCity-1])"
   ]
  },
  {
   "cell_type": "code",
   "execution_count": 33,
   "id": "9124d1f3-ed17-4d92-b03b-f21f05538d00",
   "metadata": {},
   "outputs": [
    {
     "name": "stdout",
     "output_type": "stream",
     "text": [
      "Nilai Desimal: 200\n",
      "Nilai Desimal dari 0xff: 255\n",
      "Nilai Desimal dari 0b1010: 10\n",
      "Nilai Desimal dari 0o377: 255\n",
      "-------------------\n",
      "Nilai Biner dari: 200 0b11001000\n",
      "Nilai Octal dari: 200 0o310\n",
      "Nilai Hexa dari: 200 0xc8\n"
     ]
    }
   ],
   "source": [
    "desimal = 200\n",
    "hexa = 0xff\n",
    "biner = 0b1010\n",
    "octal = 0o377\n",
    "\n",
    "print(\"Nilai Desimal:\",desimal)\n",
    "print(\"Nilai Desimal dari 0xff:\",hexa)\n",
    "print(\"Nilai Desimal dari 0b1010:\",biner)\n",
    "print(\"Nilai Desimal dari 0o377:\",octal)\n",
    "print(\"-------------------\")\n",
    "print(\"Nilai Biner dari:\",desimal, bin(desimal))\n",
    "print(\"Nilai Octal dari:\",desimal, oct(desimal))\n",
    "print(\"Nilai Hexa dari:\",desimal, hex(desimal))"
   ]
  },
  {
   "cell_type": "code",
   "execution_count": 83,
   "id": "67bd402a-fafc-47cb-9eef-139b71bbf70c",
   "metadata": {},
   "outputs": [
    {
     "name": "stdout",
     "output_type": "stream",
     "text": [
      "['Sukabumi', 'Bandung', 'Bogor', 'Jakarta']\n",
      "Sukabumi\n",
      "Jakarta\n",
      "['Sukabumi', 'Subang', 'Bogor', 'Jakarta']\n",
      "J\n",
      "('Yajit', 'Padli', 'Jitna')\n",
      "{'name': 'Dedi', 'address': {'street': 'Cisaat', 'number': 21, 'province': 'West Jawa'}, 'age': 23, 'isMarried': True}\n",
      "West Jawa\n",
      "{'name': 'Yazid', 'address': {'street': 'Compton', 'number': 221, 'province': 'California'}, 'hobbies': ['Gaming', 'Sebat'], 'age': 21, 'isMarried': False}\n",
      "Soccer\n",
      "21\n"
     ]
    }
   ],
   "source": [
    "#Tipe Data Collection\n",
    "#List\n",
    "cities = [\"Sukabumi\",\"Bandung\",\"Bogor\",\"Jakarta\"]\n",
    "print(cities)\n",
    "print(cities[0])\n",
    "print(cities[len(cities)-1])\n",
    "cities[1] = \"Subang\"\n",
    "print(cities)\n",
    "print(cities[len(cities)-1][0])\n",
    "\n",
    "#Tuple\n",
    "names = (\"Yajit\",\"Padli\",\"Jitna\")\n",
    "print(names)\n",
    "\n",
    "#Dictionary\n",
    "studentData = {\n",
    "    \"name\" : \"Dedi\",\n",
    "    \"address\" : {\n",
    "        \"street\" : \"Cisaat\",\n",
    "        \"number\" : 21,\n",
    "        \"province\" : \"West Jawa\"\n",
    "    },\n",
    "    \"age\" : 23,\n",
    "    \"isMarried\" : True\n",
    "}\n",
    "\n",
    "#List of Dictionary\n",
    "listStudent = [\n",
    "    {\n",
    "        \"name\" : \"Dedi\",\n",
    "        \"address\" : {\n",
    "            \"street\" : \"Cisaat\",\n",
    "            \"number\" : 21,\n",
    "            \"province\" : \"West Jawa\"\n",
    "            },\n",
    "        \"hobbies\":[\"Basket\",\"Soccer\"],\n",
    "        \"age\" : 23,\n",
    "        \"isMarried\" : True\n",
    "    },\n",
    "    {\n",
    "        \"name\" : \"Yazid\",\n",
    "        \"address\" : {\n",
    "            \"street\" : \"Compton\",\n",
    "            \"number\" : 221,\n",
    "            \"province\" : \"California\"\n",
    "            },\n",
    "        \"hobbies\":[\"Gaming\",\"Sebat\"],\n",
    "        \"age\" : 21,\n",
    "        \"isMarried\" : False\n",
    "    }\n",
    "    \n",
    "]\n",
    "\n",
    "print(studentData)\n",
    "print(studentData[\"address\"][\"province\"])\n",
    "print(listStudent[1])\n",
    "print(listStudent[0][\"hobbies\"][1])\n",
    "print(listStudent[1][\"age\"])"
   ]
  },
  {
   "cell_type": "code",
   "execution_count": 101,
   "id": "13d8a8af-0fe6-4e37-8131-fba15ad19a06",
   "metadata": {},
   "outputs": [
    {
     "name": "stdout",
     "output_type": "stream",
     "text": [
      "{'name': 'Dika', 'nilai': 80}\n",
      "{'Buah': 'Apple', 'Harga': 80000}\n",
      "{'Mobil': 'Lambo', 'Harga': 10000000}\n",
      "{'Laptop': 'Acer', 'Harga': 80000}\n",
      "{'name': 'Yajit', 'age': '21', 'address': 'Compton'}\n"
     ]
    }
   ],
   "source": [
    "#Casting dictionary\n",
    "\n",
    "list_tuple = [(\"name\",\"Dika\"),(\"nilai\",80)]\n",
    "dictStudent = dict(list_tuple)\n",
    "print(dictStudent)\n",
    "\n",
    "list_list = [[\"Buah\",\"Apple\"],[\"Harga\",80000]]\n",
    "dictBuah = dict(list_list)\n",
    "print(dictBuah)\n",
    "\n",
    "tuple_tuple = ((\"Mobil\",\"Lambo\"),(\"Harga\",10000000))\n",
    "dictMobil = dict(tuple_tuple)\n",
    "print(dictMobil)\n",
    "\n",
    "tuple_list = ([\"Laptop\",\"Acer\"],[\"Harga\",80000])\n",
    "dictLaptop = dict(tuple_list)\n",
    "print(dictLaptop)\n",
    "\n",
    "keys = [\"name\",\"age\",\"address\"]\n",
    "values = [\"Yajit\",\"21\",\"Compton\"]\n",
    "\n",
    "dictData = dict(zip(keys,values))\n",
    "print(dictData)"
   ]
  }
 ],
 "metadata": {
  "kernelspec": {
   "display_name": "Python [conda env:base] *",
   "language": "python",
   "name": "conda-base-py"
  },
  "language_info": {
   "codemirror_mode": {
    "name": "ipython",
    "version": 3
   },
   "file_extension": ".py",
   "mimetype": "text/x-python",
   "name": "python",
   "nbconvert_exporter": "python",
   "pygments_lexer": "ipython3",
   "version": "3.12.7"
  }
 },
 "nbformat": 4,
 "nbformat_minor": 5
}

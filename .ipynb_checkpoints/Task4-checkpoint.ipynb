{
 "cells": [
  {
   "cell_type": "markdown",
   "id": "a4f496f2-0acb-42f7-a4a8-2cf3cf5ce1a6",
   "metadata": {},
   "source": [
    "<h1>Tugas 4 Daspro M. Zaidan TI24A</h1>"
   ]
  },
  {
   "cell_type": "markdown",
   "id": "52b10e44-1e62-420e-9ed3-4848c3acef97",
   "metadata": {},
   "source": [
    "<h3>Operator Aritmatika</h3>"
   ]
  },
  {
   "cell_type": "code",
   "execution_count": 1,
   "id": "bdb3111b-c026-43dd-876e-4fc14c88c6bb",
   "metadata": {},
   "outputs": [
    {
     "name": "stdout",
     "output_type": "stream",
     "text": [
      "Budi memiliki 12 Apels, & Budi memiliki 4 Teman, Budi Membagi Rata Apel nya Kepada Teman Temannya, dan Teman Teman Budi Masing Mendapat 3 Apel\n",
      "Jika Budi Mendapat 8 Apel, Maka Total Apel Budi adalah 20 Apel\n"
     ]
    }
   ],
   "source": [
    "apelBudi = 12\n",
    "temanBudi = 4\n",
    "apelTeman = apelBudi // temanBudi\n",
    "print(\"Budi memiliki {} Apels, & Budi memiliki {} Teman, Budi Membagi Rata Apel nya Kepada Teman Temannya, dan Teman Teman Budi Masing Mendapat {} Apel\" \n",
    "      .format(apelBudi, temanBudi, apelTeman))\n",
    "\n",
    "tambahApel = 8\n",
    "totalApel = tambahApel + apelBudi\n",
    "print(\"Jika Budi Mendapat {} Apel, Maka Total Apel Budi adalah {} Apel\".format(tambahApel,totalApel))"
   ]
  },
  {
   "cell_type": "markdown",
   "id": "83f7872f-ebbe-4486-a1ca-9b49053093b6",
   "metadata": {},
   "source": [
    "<h3>Operator Perbandingan</h3>"
   ]
  },
  {
   "cell_type": "code",
   "execution_count": 12,
   "id": "69a7a062-61b6-4ab4-98d3-23a0cf9f81a2",
   "metadata": {},
   "outputs": [
    {
     "name": "stdout",
     "output_type": "stream",
     "text": [
      "Andi lebih tinggi dari Siti\n"
     ]
    }
   ],
   "source": [
    "tinggiSiti = 160\n",
    "tinggiAndi = 165\n",
    "\n",
    "if tinggiAndi > tinggiSiti:\n",
    "    print(\"Andi lebih tinggi dari Siti\")\n",
    "elif tinggiAndi < tinggiSiti:\n",
    "    print(\"Siti lebih tinggi dari Andi\")\n",
    "else:\n",
    "    print(\"Siti dan Andi memiliki tinggi yang sama\")"
   ]
  },
  {
   "cell_type": "markdown",
   "id": "fbf11fdb-b3e3-4673-bec8-fc46233cefca",
   "metadata": {},
   "source": [
    "<h3>Operator Logika</h3>"
   ]
  },
  {
   "cell_type": "code",
   "execution_count": 17,
   "id": "10d0c10b-3198-4a53-ba2c-86dfd7e37575",
   "metadata": {},
   "outputs": [
    {
     "name": "stdout",
     "output_type": "stream",
     "text": [
      "Budi bisa bermain di luar\n"
     ]
    }
   ],
   "source": [
    "cuacaCerah = True\n",
    "prSelesai = True\n",
    "\n",
    "if cuacaCerah and prSelesai:\n",
    "    print(\"Budi bisa bermain di luar\")\n",
    "else:\n",
    "    print(\"Budi tidak bisa bermain di luar\")"
   ]
  },
  {
   "cell_type": "markdown",
   "id": "15289818-dc9f-4a59-a3c3-df1449cd83ab",
   "metadata": {},
   "source": [
    "<h3>Operator Bitwise</h3>"
   ]
  },
  {
   "cell_type": "code",
   "execution_count": 26,
   "id": "befc0e03-b273-4d8b-ab98-9b6dcf48603b",
   "metadata": {},
   "outputs": [
    {
     "name": "stdout",
     "output_type": "stream",
     "text": [
      "6 = 0b110\n",
      "3 = 0b11\n",
      "Hasil AND: 2 = 0b10\n",
      "Hasil OR: 7 = 0b111\n",
      "Hasil XOR: 5 = 0b101\n"
     ]
    }
   ],
   "source": [
    "nilai1 = 6\n",
    "nilai2 = 3\n",
    "print(nilai1,\"=\",bin(nilai1))\n",
    "print(nilai2,\"=\",bin(nilai2))\n",
    "\n",
    "hasilAnd = nilai1 & nilai2\n",
    "hasilOr = nilai1 | nilai2\n",
    "hasilXor = nilai1 ^ nilai2\n",
    "\n",
    "print(\"Hasil AND:\", hasilAnd, \"=\", bin(hasilAnd))\n",
    "print(\"Hasil OR:\", hasilOr, \"=\", bin(hasilOr))\n",
    "print(\"Hasil XOR:\", hasilXor, \"=\", bin(hasilXor))\n"
   ]
  },
  {
   "cell_type": "markdown",
   "id": "de59d0a5-1e8d-489e-8b09-6558d6bcadef",
   "metadata": {},
   "source": [
    "<h3>Operator Penugasan</h3>"
   ]
  },
  {
   "cell_type": "code",
   "execution_count": 37,
   "id": "c2fff556-329c-4f84-a282-80b6412e72ec",
   "metadata": {},
   "outputs": [
    {
     "name": "stdout",
     "output_type": "stream",
     "text": [
      "Saldo Awal Rp 50000\n",
      "Isi Ulang Rp 20000 Jadi Rp 70000\n",
      "Beli Paket Rp 30000 Jadi Sisanya Rp 40000\n"
     ]
    }
   ],
   "source": [
    "saldo = 50000\n",
    "print(\"Saldo Awal Rp\", saldo)\n",
    "saldo += 20000\n",
    "print(\"Isi Ulang Rp 20000 Jadi Rp\", saldo)\n",
    "saldo -= 30000\n",
    "print(\"Beli Paket Rp 30000 Jadi Sisanya Rp\", saldo)"
   ]
  },
  {
   "cell_type": "markdown",
   "id": "5d2ce3cc-aa5f-437f-9eec-109806c02b9a",
   "metadata": {},
   "source": [
    "<h3>Operator Keanggotaan</h3>"
   ]
  },
  {
   "cell_type": "code",
   "execution_count": 55,
   "id": "46d451ea-b22c-4cf7-b2d3-d6c22953b98a",
   "metadata": {},
   "outputs": [
    {
     "name": "stdout",
     "output_type": "stream",
     "text": [
      "Peserta Lomba Adalah ['Andi', 'Budi', 'Citra', 'Dewi']\n",
      "Eka tidak terdaftar sebagai peserta\n",
      "-------------------------\n",
      "Saya suka belajar Python\n",
      "Kata 'Python' ada dalam kalimat\n"
     ]
    }
   ],
   "source": [
    "peserta = [\"Andi\", \"Budi\", \"Citra\", \"Dewi\"]\n",
    "print(\"Peserta Lomba Adalah\", peserta)\n",
    "\n",
    "if \"Eka\" in peserta:\n",
    "    print(\"Eka terdaftar sebagai peserta\")\n",
    "else:\n",
    "    print(\"Eka tidak terdaftar sebagai peserta\")\n",
    "\n",
    "print(\"-------------------------\")\n",
    "\n",
    "kalimat = \"Saya suka belajar Python\"\n",
    "print(kalimat)\n",
    "\n",
    "if \"Python\" in kalimat:\n",
    "    print(\"Kata 'Python' ada dalam kalimat\")\n",
    "else:\n",
    "    print(\"Kata 'Python' tidak ada dalam kalimat\")\n"
   ]
  },
  {
   "cell_type": "markdown",
   "id": "c507bc8a-d052-4744-aea1-aeb9a2707ff1",
   "metadata": {},
   "source": [
    "<h3>Operator Identitas</h3>"
   ]
  },
  {
   "cell_type": "code",
   "execution_count": 67,
   "id": "72c0a35f-8b24-4d20-9c33-1a52df566793",
   "metadata": {},
   "outputs": [
    {
     "name": "stdout",
     "output_type": "stream",
     "text": [
      "x = 140731730307800\n",
      "y = 140731730307800\n",
      "x dan y merujuk ke objek yang sama dalam memori\n",
      "-------------------------\n",
      "List 1 [1, 2, 3] = 2574490734080\n",
      "List 2 [1, 2, 3] = 2574490905344\n",
      "list1 dan list2 tidak mengacu ke objek yang sama dalam memori\n"
     ]
    }
   ],
   "source": [
    "x = 10\n",
    "y = 10\n",
    "print(\"x =\",id(x))\n",
    "print(\"y =\",id(y))\n",
    "\n",
    "if x is y:\n",
    "    print(\"x dan y merujuk ke objek yang sama dalam memori\")\n",
    "else:\n",
    "    print(\"x dan y tidak merujuk ke objek yang sama dalam memori\")\n",
    "\n",
    "print(\"-------------------------\")\n",
    "\n",
    "list1 = [1, 2, 3]\n",
    "print(\"List 1\", list1, \"=\", id(list1))\n",
    "list2 = [1, 2, 3]\n",
    "print(\"List 2\", list2, \"=\", id(list2))\n",
    "\n",
    "if list1 is list2:\n",
    "    print(\"list1 dan list2 mengacu ke objek yang sama dalam memori\")\n",
    "else:\n",
    "    print(\"list1 dan list2 tidak mengacu ke objek yang sama dalam memori\")"
   ]
  },
  {
   "cell_type": "markdown",
   "id": "e349ed6f-9e3f-4e82-958e-c04cadd38f1d",
   "metadata": {},
   "source": [
    "<h3>Operator Ternary</h3>"
   ]
  },
  {
   "cell_type": "code",
   "execution_count": 98,
   "id": "f8078cc1-6118-43eb-b215-6fbe58df3f9d",
   "metadata": {},
   "outputs": [
    {
     "name": "stdin",
     "output_type": "stream",
     "text": [
      "Isikan Angka: 12\n"
     ]
    },
    {
     "name": "stdout",
     "output_type": "stream",
     "text": [
      "12 Tidak lebih besar dari 100\n",
      "-------------------------\n"
     ]
    },
    {
     "name": "stdin",
     "output_type": "stream",
     "text": [
      "Isikan Nilai: 111\n"
     ]
    },
    {
     "name": "stdout",
     "output_type": "stream",
     "text": [
      "Lulus\n"
     ]
    }
   ],
   "source": [
    "angka = int(input(\"Isikan Angka:\"))\n",
    "hasil = \"Lebih besar dari 100\" if angka > 100 else \"Tidak lebih besar dari 100\"\n",
    "print(angka, hasil)\n",
    "\n",
    "print(\"-------------------------\")\n",
    "\n",
    "nilaiUjian = int(input(\"Isikan Nilai:\"))\n",
    "status = \"Lulus\" if nilaiUjian > 70 else \"Tidak Lulus\"\n",
    "print(status)"
   ]
  },
  {
   "cell_type": "code",
   "execution_count": null,
   "id": "c07c7cf9-0847-4441-af8f-02708684150a",
   "metadata": {},
   "outputs": [],
   "source": []
  }
 ],
 "metadata": {
  "kernelspec": {
   "display_name": "Python [conda env:base] *",
   "language": "python",
   "name": "conda-base-py"
  },
  "language_info": {
   "codemirror_mode": {
    "name": "ipython",
    "version": 3
   },
   "file_extension": ".py",
   "mimetype": "text/x-python",
   "name": "python",
   "nbconvert_exporter": "python",
   "pygments_lexer": "ipython3",
   "version": "3.12.7"
  }
 },
 "nbformat": 4,
 "nbformat_minor": 5
}

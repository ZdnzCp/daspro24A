{
 "cells": [
  {
   "cell_type": "code",
   "execution_count": 1,
   "id": "7d83260e-0a67-4c98-aae2-dfd7bbe4b2d3",
   "metadata": {},
   "outputs": [
    {
     "name": "stdout",
     "output_type": "stream",
     "text": [
      "\n",
      "=====Data Mahasiswa=====\n",
      "1. Tambah Data\n",
      "2. Tampilkan Data\n",
      "3. Exit\n"
     ]
    },
    {
     "name": "stdin",
     "output_type": "stream",
     "text": [
      "Pilih Menu: 2\n"
     ]
    },
    {
     "name": "stdout",
     "output_type": "stream",
     "text": [
      "================\n",
      "NIM: 20240040184\n",
      "Nama: Zaidan\n",
      "Alamat: Jl. Bojongloa\n",
      "Kelas: TI24\n",
      "================\n",
      "NIM: 20230040184\n",
      "Nama: Zaidun\n",
      "Alamat: Jl. Bojonglopang\n",
      "Kelas: TI23\n",
      "================\n",
      "NIM: 20240030183\n",
      "Nama: Yuzas\n",
      "Alamat: Jl. Lonely\n",
      "Kelas: TI24\n",
      "\n",
      "\n",
      "=====Data Mahasiswa=====\n",
      "1. Tambah Data\n",
      "2. Tampilkan Data\n",
      "3. Exit\n"
     ]
    },
    {
     "name": "stdin",
     "output_type": "stream",
     "text": [
      "Pilih Menu: 3\n"
     ]
    },
    {
     "name": "stdout",
     "output_type": "stream",
     "text": [
      "Terimakasih!\n"
     ]
    }
   ],
   "source": [
    " while True:\n",
    "    print(\"\\n=====Data Mahasiswa=====\")\n",
    "    print(\"1. Tambah Data\")\n",
    "    print(\"2. Tampilkan Data\")\n",
    "    print(\"3. Exit\")\n",
    "    pilih = input(\"Pilih Menu:\")\n",
    "    if pilih == \"1\":\n",
    "        nim = input(\"Masukan NIM:\")\n",
    "        nama = input(\"Masukan Nama:\")\n",
    "        alamat = input(\"Masukan Alamat:\")\n",
    "        kelas = input(\"Masukan Kelas:\")\n",
    "        with open(\"datamahasiswa.txt\",\"a\") as file:\n",
    "            file.write(\"================\\n\")\n",
    "            if len(nim) == 11:\n",
    "                file.write(f\"NIM: {nim}\\n\")\n",
    "            else:\n",
    "                print(\"NIM Harus Terdiri dari 11 Huruf\")\n",
    "            if len(nama) >= 5:\n",
    "                file.write(f\"Nama: {nama}\\n\")\n",
    "            else:\n",
    "                print(\"Nama Tidak Boleh Kurang dari 5 Huruf\")\n",
    "            if len(alamat) >= 10:\n",
    "                file.write(f\"Alamat: {alamat}\\n\")\n",
    "            else:\n",
    "                print(\"Alamat Tidak Boleh Kurang dari 10 huruf\")\n",
    "            if kelas in [\"TI24\", \"TI23\"]:\n",
    "                file.write(f\"Kelas: {kelas}\\n\")\n",
    "            else:\n",
    "                print(\"Kelas Tidak Boleh selain TI24 dan TI23\")\n",
    "        print(\"Terimakasih!\")\n",
    "    elif pilih == \"2\":\n",
    "        try:\n",
    "            f = open(\"datamahasiswa.txt\",\"r\")\n",
    "            baris = f.read()\n",
    "        except FileNotFoundError:\n",
    "            print(\"File Tidak Ditemukan\")\n",
    "        else:\n",
    "            print(baris)\n",
    "        finally:\n",
    "            f.close()\n",
    "    elif pilih == \"3\":\n",
    "        print(\"Terimakasih!\")\n",
    "        break\n",
    "    else:\n",
    "        print(\"Input Salah!\")\n",
    "        break"
   ]
  },
  {
   "cell_type": "code",
   "execution_count": null,
   "id": "9e5ecfae-3bdf-49f7-aad2-bdf7774c3ea1",
   "metadata": {},
   "outputs": [],
   "source": []
  }
 ],
 "metadata": {
  "kernelspec": {
   "display_name": "Python [conda env:base] *",
   "language": "python",
   "name": "conda-base-py"
  },
  "language_info": {
   "codemirror_mode": {
    "name": "ipython",
    "version": 3
   },
   "file_extension": ".py",
   "mimetype": "text/x-python",
   "name": "python",
   "nbconvert_exporter": "python",
   "pygments_lexer": "ipython3",
   "version": "3.12.7"
  }
 },
 "nbformat": 4,
 "nbformat_minor": 5
}

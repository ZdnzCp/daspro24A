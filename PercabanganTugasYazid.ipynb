{
 "cells": [
  {
   "cell_type": "markdown",
   "id": "5854a90d-e435-44ae-9e31-3bc520e011b1",
   "metadata": {
    "id": "5854a90d-e435-44ae-9e31-3bc520e011b1"
   },
   "source": [
    "Buatlah program yang meminta pengguna memasukkan usia seseorang, lalu tentukan apakah dia <br>\n",
    "anak-anak (0-12 tahun), remaja (13-17 tahun), dewasa (18-59 tahun), atau lansia (60 tahun ke atas)."
   ]
  },
  {
   "cell_type": "code",
   "execution_count": 15,
   "id": "75a2fdcd-1ef1-45e4-9d79-c6a7cb708a18",
   "metadata": {
    "id": "75a2fdcd-1ef1-45e4-9d79-c6a7cb708a18"
   },
   "outputs": [
    {
     "name": "stdin",
     "output_type": "stream",
     "text": [
      "Masukan Usia Anda: 19\n"
     ]
    },
    {
     "name": "stdout",
     "output_type": "stream",
     "text": [
      "Anda adalah orang dewasa\n"
     ]
    }
   ],
   "source": [
    "usia = int(input(\"Masukan Usia Anda:\"))\n",
    "\n",
    "if usia <= 12:\n",
    "    print(\"Anda adalah seorang anak-anak\")\n",
    "elif 13 <= usia <= 17:\n",
    "    print(\"Anda adalah seorang remaja\")\n",
    "elif 18 <= usia <= 59:\n",
    "    print(\"Anda adalah orang dewasa\")\n",
    "else:\n",
    "    print(\"Anda adalah seorang lansia\")"
   ]
  },
  {
   "cell_type": "markdown",
   "id": "68c95835-e4ad-4bd0-89ca-168200893cf7",
   "metadata": {
    "id": "68c95835-e4ad-4bd0-89ca-168200893cf7"
   },
   "source": [
    "Sebuah taman hiburan memiliki aturan harga tiket berdasarkan usia:\n",
    "<ol>\n",
    "<li>Anak-anak (0-12 tahun): Rp 10.000</li>\n",
    "<li>Remaja (13-17 tahun): Rp 15.000</li>\n",
    "<li>Dewasa (18-59 tahun): Rp 25.000</li>\n",
    "<li>Lansia (60 tahun ke atas): Gratis</li>\n",
    "</ol>\n",
    "Buat program untuk menentukan harga tiket berdasarkan usia yang dimasukkan pengguna dan total harga yang harus dibayar, jika terdapat 3 input seperti berikut ini"
   ]
  },
  {
   "cell_type": "code",
   "execution_count": 25,
   "id": "66ee699f-8355-48e0-939a-dcc73ba4425b",
   "metadata": {
    "id": "66ee699f-8355-48e0-939a-dcc73ba4425b"
   },
   "outputs": [
    {
     "name": "stdin",
     "output_type": "stream",
     "text": [
      "Isikan Umur Tiket 1: 18\n",
      "Isikan Umur Tiket 2: 12\n",
      "Isikan Umur Tiket 3: 60\n"
     ]
    },
    {
     "name": "stdout",
     "output_type": "stream",
     "text": [
      "Total harga yang harus dibayar: Rp 35000\n"
     ]
    }
   ],
   "source": [
    "tiket1 = int(input(\"Isikan Umur Tiket 1:\"))\n",
    "tiket2 = int(input(\"Isikan Umur Tiket 2:\"))\n",
    "tiket3 = int(input(\"Isikan Umur Tiket 3:\"))\n",
    "\n",
    "if 0 <= tiket1 <= 12:\n",
    "    harga1 = 10000\n",
    "elif 13 <= tiket1 <= 17:\n",
    "    harga1 = 15000\n",
    "elif 18 <= tiket1 <= 59:\n",
    "    harga1 = 25000\n",
    "else:\n",
    "    harga1 = 0\n",
    "\n",
    "if 0 <= tiket2 <= 12:\n",
    "    harga2 = 10000\n",
    "elif 13 <= tiket2 <= 17:\n",
    "    harga2 = 15000\n",
    "elif 18 <= tiket2 <= 59:\n",
    "    harga2 = 25000\n",
    "else:\n",
    "    harga2 = 0\n",
    "\n",
    "if 0 <= tiket3 <= 12:\n",
    "    harga3 = 10000\n",
    "elif 13 <= tiket3 <= 17:\n",
    "    harga3 = 15000\n",
    "elif 18 <= tiket3 <= 59:\n",
    "    harga3 = 25000\n",
    "else:\n",
    "    harga3 = 0\n",
    "\n",
    "total = harga1 + harga2 + harga3\n",
    "\n",
    "print(\"Total harga yang harus dibayar: Rp\", total)"
   ]
  },
  {
   "cell_type": "markdown",
   "id": "82eac646-d930-42f5-a253-03f84c32f943",
   "metadata": {
    "id": "82eac646-d930-42f5-a253-03f84c32f943"
   },
   "source": [
    "Sebuah restoran memiliki diskon khusus:\n",
    "Anak-anak (0-12 tahun) diskon 50%\n",
    "Lansia (60 tahun ke atas) diskon 30%\n",
    "Selain itu, tidak ada diskon\n",
    "Buat program untuk menghitung harga yang harus dibayar setelah diskon diberikan."
   ]
  },
  {
   "cell_type": "code",
   "execution_count": 23,
   "id": "feb31fca-fce6-4e5f-a25f-8752e7a0033b",
   "metadata": {
    "id": "feb31fca-fce6-4e5f-a25f-8752e7a0033b"
   },
   "outputs": [
    {
     "name": "stdin",
     "output_type": "stream",
     "text": [
      "Masukkan usia pelanggan: 2\n",
      "Masukkan harga makanan: 20000\n"
     ]
    },
    {
     "name": "stdout",
     "output_type": "stream",
     "text": [
      "Harga setelah diskon: Rp 10000\n"
     ]
    }
   ],
   "source": [
    "usia = int(input(\"Masukkan usia pelanggan:\"))\n",
    "harga = int(input(\"Masukkan harga makanan:\"))\n",
    "\n",
    "if 0 <= usia <= 12:\n",
    "    diskon = 0.5\n",
    "elif usia >= 60:\n",
    "    diskon = 0.3\n",
    "else:\n",
    "    diskon = 0.0\n",
    "\n",
    "hargaDiskon = harga - (harga * diskon)\n",
    "print(f\"Harga setelah diskon: Rp {int(hargaDiskon)}\")"
   ]
  },
  {
   "cell_type": "markdown",
   "id": "aee8bab3-9bf1-4732-97e1-7abb32ce7184",
   "metadata": {
    "id": "aee8bab3-9bf1-4732-97e1-7abb32ce7184"
   },
   "source": [
    "Program beasiswa:\n",
    "<ol>\n",
    "<li>Jika nilai rapor ≥ 90 dan penghasilan orang tua < Rp 5.000.000 → Beasiswa Penuh</li>\n",
    "<li>Jika nilai rapor ≥ 85 dan penghasilan orang tua < Rp 8.000.000 → Beasiswa 50%</li>\n",
    "<li>Jika tidak memenuhi syarat di atas → Tidak mendapatkan beasiswa</li>\n",
    "</ol>"
   ]
  },
  {
   "cell_type": "code",
   "execution_count": 29,
   "id": "55a9ec4f-531b-4326-bca3-e0d19b4be47d",
   "metadata": {
    "id": "55a9ec4f-531b-4326-bca3-e0d19b4be47d"
   },
   "outputs": [
    {
     "name": "stdin",
     "output_type": "stream",
     "text": [
      "Masukkan nilai rapor: 90\n",
      "Masukkan penghasilan orang tua: 2000000\n"
     ]
    },
    {
     "name": "stdout",
     "output_type": "stream",
     "text": [
      "Status Beasiswa: Beasiswa Penuh\n"
     ]
    }
   ],
   "source": [
    "nilai = int(input(\"Masukkan nilai rapor:\"))\n",
    "penghasilan = int(input(\"Masukkan penghasilan orang tua:\"))\n",
    "\n",
    "if nilai >= 90 and penghasilan < 5000000:\n",
    "    beasiswa = \"Beasiswa Penuh\"\n",
    "elif nilai >= 85 and penghasilan < 8000000:\n",
    "    beasiswa = \"Beasiswa 50%\"\n",
    "else:\n",
    "    beasiswa = \"Tidak mendapatkan beasiswa\"\n",
    "    \n",
    "print(\"Status Beasiswa:\", beasiswa)"
   ]
  },
  {
   "cell_type": "markdown",
   "id": "57ea9062-e1af-4650-8eab-a47a01a9d04f",
   "metadata": {
    "id": "57ea9062-e1af-4650-8eab-a47a01a9d04f"
   },
   "source": [
    "Suatu aplikasi streaming memiliki batasan usia:\n",
    "<ol>\n",
    "<li>Film Semua Umur: Bisa ditonton oleh siapa saja</li>\n",
    "<li>Film Remaja: Hanya untuk usia ≥ 13 tahun</li>\n",
    "<li>Film Dewasa: Hanya untuk usia ≥ 18 tahun</li>\n",
    "</ol>\n",
    "Buat program yang meminta input usia dan kategori film, lalu tentukan apakah seseorang boleh menonton film tersebut atau tidak."
   ]
  },
  {
   "cell_type": "code",
   "execution_count": 31,
   "id": "2c00f464-3390-4c94-9ec2-4b63c55b871b",
   "metadata": {
    "id": "2c00f464-3390-4c94-9ec2-4b63c55b871b"
   },
   "outputs": [
    {
     "name": "stdin",
     "output_type": "stream",
     "text": [
      "Masukkan usia Anda: 15\n",
      "Masukkan kategori film (Semua Umur/Remaja/Dewasa): dewasa\n"
     ]
    },
    {
     "name": "stdout",
     "output_type": "stream",
     "text": [
      "Anda tidak boleh menonton film ini\n"
     ]
    }
   ],
   "source": [
    "usia = int(input(\"Masukkan usia Anda:\"))\n",
    "kategori = input(\"Masukkan kategori film (Semua Umur/Remaja/Dewasa):\").strip().lower()\n",
    "\n",
    "if kategori == \"semua umur\":\n",
    "    boleh = True\n",
    "elif kategori == \"remaja\" and usia >= 13:\n",
    "    boleh = True\n",
    "elif kategori == \"dewasa\" and usia >= 18:\n",
    "    boleh = True\n",
    "else:\n",
    "    boleh = False\n",
    "\n",
    "if boleh:\n",
    "    print(\"Anda boleh menonton film ini\")\n",
    "else:\n",
    "    print(\"Anda tidak boleh menonton film ini\")"
   ]
  },
  {
   "cell_type": "markdown",
   "id": "7b87c04c-85f0-4dc1-a14a-f67d8b2c4e6a",
   "metadata": {
    "id": "7b87c04c-85f0-4dc1-a14a-f67d8b2c4e6a"
   },
   "source": [
    "Sebuah toko memberikan diskon berdasarkan jumlah pembelian:\n",
    "<ol>\n",
    "<li>Jika total belanja ≥ Rp 500.000 → Diskon 20%</li>\n",
    "<li>Jika total belanja ≥ Rp 250.000 → Diskon 10%</li>\n",
    "<li>Jika total belanja < Rp 250.000 → Tidak ada diskon</li>\n",
    "</ol>\n",
    "Hitung harga akhir setelah diskon."
   ]
  },
  {
   "cell_type": "code",
   "execution_count": 65,
   "id": "966923a0-c87b-4559-8fc1-3090d448ad4a",
   "metadata": {
    "id": "966923a0-c87b-4559-8fc1-3090d448ad4a"
   },
   "outputs": [
    {
     "name": "stdin",
     "output_type": "stream",
     "text": [
      "Masukan Total Belanjaan Pelanggan: 275000\n"
     ]
    },
    {
     "name": "stdout",
     "output_type": "stream",
     "text": [
      "Pelanggan Mendapat Diskon 10%\n",
      "Pelanggan Harus Bayar: Rp.247500\n"
     ]
    }
   ],
   "source": [
    "total = int(input(\"Masukan Total Belanjaan Pelanggan:\"))\n",
    "\n",
    "if total >= 500000:\n",
    "    print(\"Pelanggan Mendapat Diskon 20%\")\n",
    "    diskon = 0.2\n",
    "elif total >= 250000:\n",
    "    print(\"Pelanggan Mendapat Diskon 10%\")\n",
    "    diskon = 0.1\n",
    "else :\n",
    "    print(\"Pelanggan Tak Mendapat Diskon\")\n",
    "    diskon = 0\n",
    "\n",
    "totalDiskon = total - (total * diskon)\n",
    "print(f\"Pelanggan Harus Bayar: Rp.{int(totalDiskon)}\")"
   ]
  },
  {
   "cell_type": "markdown",
   "id": "88e22629-48cc-4917-86e7-2bf4df863182",
   "metadata": {
    "id": "88e22629-48cc-4917-86e7-2bf4df863182"
   },
   "source": [
    "Program parkir:\n",
    "<ol>\n",
    "<li>Mobil: Rp 5.000 per jam</li>\n",
    "<li>Motor: Rp 2.000 per jam</li>\n",
    "<li>Jika parkir lebih dari 5 jam, ada biaya tambahan Rp 10.000</li>\n",
    "</ol>\n",
    "Hitung total biaya parkir berdasarkan jenis kendaraan dan durasi parkir."
   ]
  },
  {
   "cell_type": "code",
   "execution_count": 68,
   "id": "b8f7b918-70a1-4a88-945f-406c4aafbec7",
   "metadata": {
    "id": "b8f7b918-70a1-4a88-945f-406c4aafbec7"
   },
   "outputs": [
    {
     "name": "stdin",
     "output_type": "stream",
     "text": [
      "Masukkan jenis kendaraan (Mobil/Motor):  MOBIL\n",
      "Masukkan durasi parkir (jam):  20\n"
     ]
    },
    {
     "name": "stdout",
     "output_type": "stream",
     "text": [
      "Total biaya parkir: Rp 110000\n"
     ]
    }
   ],
   "source": [
    "jenisKendaraan = input(\"Masukkan jenis kendaraan (Mobil/Motor): \").strip().lower()\n",
    "durasiParkir = int(input(\"Masukkan durasi parkir (jam): \"))\n",
    "\n",
    "if jenisKendaraan == \"mobil\":\n",
    "    tarifPerJam = 5000\n",
    "elif jenisKendaraan == \"motor\":\n",
    "    tarifPerJam = 2000\n",
    "else:\n",
    "    tarifPerJam = 0\n",
    "\n",
    "totalBiaya = durasiParkir * tarifPerJam\n",
    "if durasiParkir > 5:\n",
    "    totalBiaya += 10000\n",
    "\n",
    "print(f\"Total biaya parkir: Rp {totalBiaya}\")"
   ]
  },
  {
   "cell_type": "markdown",
   "id": "2db1d34c-3f80-4f8c-aaf2-910c38c05414",
   "metadata": {
    "id": "2db1d34c-3f80-4f8c-aaf2-910c38c05414"
   },
   "source": [
    "Aplikasi transportasi online memiliki tarif sebagai berikut:\n",
    "<ol>\n",
    "<li>Jika jarak ≤ 5 km → Rp 5.000/km</li>\n",
    "<li>Jika jarak 6-10 km → Rp 4.000/km</li>\n",
    "<li>Jika jarak > 10 km → Rp 3.000/km</li>\n",
    "</ol>\n",
    "Hitung tarif perjalanan berdasarkan jarak yang dimasukkan pengguna.\n"
   ]
  },
  {
   "cell_type": "code",
   "execution_count": 74,
   "id": "5a5b719e-76f6-4f45-a8e4-07853113ce9e",
   "metadata": {
    "id": "5a5b719e-76f6-4f45-a8e4-07853113ce9e"
   },
   "outputs": [
    {
     "name": "stdin",
     "output_type": "stream",
     "text": [
      "Masukkan jarak perjalanan (km):  9\n"
     ]
    },
    {
     "name": "stdout",
     "output_type": "stream",
     "text": [
      "Total tarif perjalanan: Rp 36000\n"
     ]
    }
   ],
   "source": [
    "jarakPerjalanan = int(input(\"Masukkan jarak perjalanan (km): \"))\n",
    "\n",
    "if jarakPerjalanan <= 5:\n",
    "    tarifPerKm = 5000\n",
    "elif jarakPerjalanan <= 10:\n",
    "    tarifPerKm = 4000\n",
    "else:\n",
    "    tarifPerKm = 3000\n",
    "\n",
    "totalTarif = jarakPerjalanan * tarifPerKm\n",
    "print(f\"Total tarif perjalanan: Rp {int(totalTarif)}\")"
   ]
  },
  {
   "cell_type": "markdown",
   "id": "d1cf7b61-e309-40ec-b1fd-4bc56550a10d",
   "metadata": {
    "id": "d1cf7b61-e309-40ec-b1fd-4bc56550a10d"
   },
   "source": [
    "Buatlah sebuah sistem penerimaan calon programmer yang akan menerima dua nilai ( nilai coding dan nilai interview). Untuk penilaian test coding skala penilaian yang diberikan dimulai dari 0 hingga 100 dengan sistem penilaian:\n",
    "<ol>\n",
    "<li>ketika seseorang mendapatkan nilai lebih dari 80 maka peserta tersebut akan mendapatkan hasil tes LOLOS</li>\n",
    "<li>ketika sesorang mendapatkan nilai diantara 60 hingga 80 maka peserta tersebut mendapatkan hasil tes DIPERTIMBANGKAN</li>\n",
    "<li>ketika seseorang mendapatkan nilai dibawah 60 maka peserta tersebut mendapatkan hasil tes GAGAL.</li>\n",
    "</ol>\n",
    "\n",
    "Sedangkan untuk penilaian interview adalah\n",
    "<ol>\n",
    "<li>ketika nilai yang diberikan kepada seseorang tersebut adalah \"A\" atau \"B\" maka peserta tersebut dianggap LOLOS interview</li>\n",
    "\n",
    "<li>selain kedua nilai tersebut maka peserta dianggap GAGAL tes interview.</li>\n",
    "</ol>\n",
    "\n",
    "Ketika calon programmer mendapatkan nilai coding LOLOS atau DIPERTIMBANGKAN dan juga LOLOS test interview maka tampilkanlah pesan \"Selamat Kamu Berhasil Menjadi Calon Programmer\". Jika tidak maka tampilkanlah pesan \"Maaf Kamu Belum Berhasil Menjadi Calon Programmer\""
   ]
  },
  {
   "cell_type": "code",
   "execution_count": 78,
   "id": "7aeb0f89-e957-4c0d-a29c-139fc269e1c0",
   "metadata": {
    "id": "7aeb0f89-e957-4c0d-a29c-139fc269e1c0"
   },
   "outputs": [
    {
     "name": "stdin",
     "output_type": "stream",
     "text": [
      "Masukkan Nilai Coding:  90\n",
      "Masukkan Nilai Interview (A/B/C/D):  D\n"
     ]
    },
    {
     "name": "stdout",
     "output_type": "stream",
     "text": [
      "Maaf Kamu Belum Berhasil Menjadi Calon Programmer\n"
     ]
    }
   ],
   "source": [
    "nilaiCoding = int(input(\"Masukkan Nilai Coding: \"))\n",
    "nilaiInterview = input(\"Masukkan Nilai Interview (A/B/C/D): \")\n",
    "\n",
    "if nilaiCoding > 80:\n",
    "    hasilCoding = \"LOLOS\"\n",
    "elif 60 <= nilaiCoding <= 80:\n",
    "    hasilCoding = \"DIPERTIMBANGKAN\"\n",
    "else:\n",
    "    hasilCoding = \"GAGAL\"\n",
    "\n",
    "if nilaiInterview == \"A\" or nilaiInterview == \"B\":\n",
    "    hasilInterview = \"LOLOS\"\n",
    "else:\n",
    "    hasilInterview = \"GAGAL\"\n",
    "\n",
    "if (hasilCoding == \"LOLOS\" or hasilCoding == \"DIPERTIMBANGKAN\") and hasilInterview == \"LOLOS\":\n",
    "    print(\"Selamat Kamu Berhasil Menjadi Calon Programmer\")\n",
    "else:\n",
    "    print(\"Maaf Kamu Belum Berhasil Menjadi Calon Programmer\")"
   ]
  },
  {
   "cell_type": "markdown",
   "id": "364647af-075b-4bc0-8c83-4c816415ff74",
   "metadata": {
    "id": "364647af-075b-4bc0-8c83-4c816415ff74"
   },
   "source": [
    "Sebuah klub sepak bola “PERSEGI FC” mempunyai aturan dalam memberikan nomor punggung bagi para pemainnya. Para pemain diperbolehkan mempunyai posisi lebih dari 1. Berikut adalah beberapa\n",
    "aturannya:\n",
    "<ol>\n",
    "<li>Untuk nomor punggung genap, digunakan untuk posisi “target attacker”</li>\n",
    "<li>Untuk nomor punggung genap antara 50 – 100, digunakan untuk pemain yang “berhak dipilih menjadi capten team”</li>\n",
    "<li>Untuk nomor punggung ganjil, digunakan untuk posisi “defender”</li>\n",
    "<li>Untuk nomor punggung ganjil lebih dari 90, digunakan untuk posisi “Playmaker”</li>\n",
    "<li>Untuk nomor punggung ganjil kelipatan dari 3 dan 5, digunakan untuk posisi “keeper”</li>\n",
    "</ol>\n",
    "Buatlah program untuk melakukan pengecekan sebuah nomor punggung dapat berfungsi sebagai posisi apa saja."
   ]
  },
  {
   "cell_type": "code",
   "execution_count": 82,
   "id": "2d1d5589-126b-44e3-9d9e-1bed865ff65c",
   "metadata": {
    "id": "2d1d5589-126b-44e3-9d9e-1bed865ff65c"
   },
   "outputs": [
    {
     "name": "stdin",
     "output_type": "stream",
     "text": [
      "Masukkan Nomor Punggung:  52\n"
     ]
    },
    {
     "name": "stdout",
     "output_type": "stream",
     "text": [
      "Posisi: Target Attacker\n",
      "Berhak Dipilih Menjadi Captain Team\n"
     ]
    }
   ],
   "source": [
    "nomorPunggung = int(input(\"Masukkan Nomor Punggung: \"))\n",
    "\n",
    "if nomorPunggung % 2 == 0:\n",
    "    print(\"Posisi: Target Attacker\")\n",
    "    if 50 <= nomorPunggung <= 100:\n",
    "        print(\"Berhak Dipilih Menjadi Captain Team\")\n",
    "else:\n",
    "    print(\"Posisi: Defender\")\n",
    "    if nomorPunggung > 90:\n",
    "        print(\"Posisi: Playmaker\")\n",
    "    if nomorPunggung % 3 == 0 and nomorPunggung % 5 == 0:\n",
    "        print(\"Posisi: Keeper\")"
   ]
  }
 ],
 "metadata": {
  "colab": {
   "provenance": []
  },
  "kernelspec": {
   "display_name": "Python [conda env:base] *",
   "language": "python",
   "name": "conda-base-py"
  },
  "language_info": {
   "codemirror_mode": {
    "name": "ipython",
    "version": 3
   },
   "file_extension": ".py",
   "mimetype": "text/x-python",
   "name": "python",
   "nbconvert_exporter": "python",
   "pygments_lexer": "ipython3",
   "version": "3.12.7"
  }
 },
 "nbformat": 4,
 "nbformat_minor": 5
}
